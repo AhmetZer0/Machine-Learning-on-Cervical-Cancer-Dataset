{
 "cells": [
  {
   "cell_type": "markdown",
   "id": "7c175c5d-27ca-4abc-9d7d-3eeeb95d7614",
   "metadata": {},
   "source": [
    "## Importing Libraries"
   ]
  },
  {
   "cell_type": "code",
   "execution_count": 66,
   "id": "46e2c64c-f60c-408f-b003-1f0599bf8236",
   "metadata": {},
   "outputs": [],
   "source": [
    "import numpy as np\n",
    "import pandas as pd\n",
    "import matplotlib.pyplot as plt\n",
    "import sklearn\n",
    "from sklearn import neighbors\n",
    "from sklearn.impute import SimpleImputer \n",
    "from sklearn.model_selection import train_test_split\n",
    "from sklearn.neighbors import KNeighborsClassifier as kNN\n",
    "from sklearn.tree import DecisionTreeClassifier\n",
    "from sklearn.naive_bayes import ComplementNB\n",
    "from sklearn.ensemble import RandomForestClassifier\n",
    "from sklearn.metrics import classification_report,precision_recall_fscore_support,ConfusionMatrixDisplay,confusion_matrix\n",
    "from sklearn import svm\n",
    "from sklearn import metrics\n",
    "from sklearn.feature_selection import RFE\n",
    "from sklearn.pipeline import Pipeline"
   ]
  },
  {
   "cell_type": "markdown",
   "id": "601d1389-ef70-4580-b3f3-fb0494d7b735",
   "metadata": {},
   "source": [
    "## Reading Dataset"
   ]
  },
  {
   "cell_type": "code",
   "execution_count": 67,
   "id": "65d19f79-c7af-4c6d-8068-4d6f874dbd5f",
   "metadata": {},
   "outputs": [],
   "source": [
    "dataframe = pd.read_csv(\"risk_factors_cervical_cancer.csv\")"
   ]
  },
  {
   "cell_type": "code",
   "execution_count": 68,
   "id": "39353b83-a3af-4862-acf0-86c5af1b3e61",
   "metadata": {},
   "outputs": [
    {
     "name": "stdout",
     "output_type": "stream",
     "text": [
      "<class 'pandas.core.frame.DataFrame'>\n",
      "RangeIndex: 858 entries, 0 to 857\n",
      "Data columns (total 36 columns):\n",
      " #   Column                              Non-Null Count  Dtype \n",
      "---  ------                              --------------  ----- \n",
      " 0   Age                                 858 non-null    int64 \n",
      " 1   Number of sexual partners           858 non-null    object\n",
      " 2   First sexual intercourse            858 non-null    object\n",
      " 3   Num of pregnancies                  858 non-null    object\n",
      " 4   Smokes                              858 non-null    object\n",
      " 5   Smokes (years)                      858 non-null    object\n",
      " 6   Smokes (packs/year)                 858 non-null    object\n",
      " 7   Hormonal Contraceptives             858 non-null    object\n",
      " 8   Hormonal Contraceptives (years)     858 non-null    object\n",
      " 9   IUD                                 858 non-null    object\n",
      " 10  IUD (years)                         858 non-null    object\n",
      " 11  STDs                                858 non-null    object\n",
      " 12  STDs (number)                       858 non-null    object\n",
      " 13  STDs:condylomatosis                 858 non-null    object\n",
      " 14  STDs:cervical condylomatosis        858 non-null    object\n",
      " 15  STDs:vaginal condylomatosis         858 non-null    object\n",
      " 16  STDs:vulvo-perineal condylomatosis  858 non-null    object\n",
      " 17  STDs:syphilis                       858 non-null    object\n",
      " 18  STDs:pelvic inflammatory disease    858 non-null    object\n",
      " 19  STDs:genital herpes                 858 non-null    object\n",
      " 20  STDs:molluscum contagiosum          858 non-null    object\n",
      " 21  STDs:AIDS                           858 non-null    object\n",
      " 22  STDs:HIV                            858 non-null    object\n",
      " 23  STDs:Hepatitis B                    858 non-null    object\n",
      " 24  STDs:HPV                            858 non-null    object\n",
      " 25  STDs: Number of diagnosis           858 non-null    int64 \n",
      " 26  STDs: Time since first diagnosis    858 non-null    object\n",
      " 27  STDs: Time since last diagnosis     858 non-null    object\n",
      " 28  Dx:Cancer                           858 non-null    int64 \n",
      " 29  Dx:CIN                              858 non-null    int64 \n",
      " 30  Dx:HPV                              858 non-null    int64 \n",
      " 31  Dx                                  858 non-null    int64 \n",
      " 32  Hinselmann                          858 non-null    int64 \n",
      " 33  Schiller                            858 non-null    int64 \n",
      " 34  Citology                            858 non-null    int64 \n",
      " 35  Biopsy                              858 non-null    int64 \n",
      "dtypes: int64(10), object(26)\n",
      "memory usage: 241.4+ KB\n"
     ]
    }
   ],
   "source": [
    "dataframe.info()"
   ]
  },
  {
   "cell_type": "code",
   "execution_count": 69,
   "id": "581e4f82-f97e-425b-99fd-9b5e4ffdb3f7",
   "metadata": {},
   "outputs": [
    {
     "data": {
      "text/html": [
       "<div>\n",
       "<style scoped>\n",
       "    .dataframe tbody tr th:only-of-type {\n",
       "        vertical-align: middle;\n",
       "    }\n",
       "\n",
       "    .dataframe tbody tr th {\n",
       "        vertical-align: top;\n",
       "    }\n",
       "\n",
       "    .dataframe thead th {\n",
       "        text-align: right;\n",
       "    }\n",
       "</style>\n",
       "<table border=\"1\" class=\"dataframe\">\n",
       "  <thead>\n",
       "    <tr style=\"text-align: right;\">\n",
       "      <th></th>\n",
       "      <th>Age</th>\n",
       "      <th>Number of sexual partners</th>\n",
       "      <th>First sexual intercourse</th>\n",
       "      <th>Num of pregnancies</th>\n",
       "      <th>Smokes</th>\n",
       "      <th>Smokes (years)</th>\n",
       "      <th>Smokes (packs/year)</th>\n",
       "      <th>Hormonal Contraceptives</th>\n",
       "      <th>Hormonal Contraceptives (years)</th>\n",
       "      <th>IUD</th>\n",
       "      <th>...</th>\n",
       "      <th>STDs: Time since first diagnosis</th>\n",
       "      <th>STDs: Time since last diagnosis</th>\n",
       "      <th>Dx:Cancer</th>\n",
       "      <th>Dx:CIN</th>\n",
       "      <th>Dx:HPV</th>\n",
       "      <th>Dx</th>\n",
       "      <th>Hinselmann</th>\n",
       "      <th>Schiller</th>\n",
       "      <th>Citology</th>\n",
       "      <th>Biopsy</th>\n",
       "    </tr>\n",
       "  </thead>\n",
       "  <tbody>\n",
       "    <tr>\n",
       "      <th>0</th>\n",
       "      <td>18</td>\n",
       "      <td>4.0</td>\n",
       "      <td>15.0</td>\n",
       "      <td>1.0</td>\n",
       "      <td>0.0</td>\n",
       "      <td>0.0</td>\n",
       "      <td>0.0</td>\n",
       "      <td>0.0</td>\n",
       "      <td>0.0</td>\n",
       "      <td>0.0</td>\n",
       "      <td>...</td>\n",
       "      <td>?</td>\n",
       "      <td>?</td>\n",
       "      <td>0</td>\n",
       "      <td>0</td>\n",
       "      <td>0</td>\n",
       "      <td>0</td>\n",
       "      <td>0</td>\n",
       "      <td>0</td>\n",
       "      <td>0</td>\n",
       "      <td>0</td>\n",
       "    </tr>\n",
       "    <tr>\n",
       "      <th>1</th>\n",
       "      <td>15</td>\n",
       "      <td>1.0</td>\n",
       "      <td>14.0</td>\n",
       "      <td>1.0</td>\n",
       "      <td>0.0</td>\n",
       "      <td>0.0</td>\n",
       "      <td>0.0</td>\n",
       "      <td>0.0</td>\n",
       "      <td>0.0</td>\n",
       "      <td>0.0</td>\n",
       "      <td>...</td>\n",
       "      <td>?</td>\n",
       "      <td>?</td>\n",
       "      <td>0</td>\n",
       "      <td>0</td>\n",
       "      <td>0</td>\n",
       "      <td>0</td>\n",
       "      <td>0</td>\n",
       "      <td>0</td>\n",
       "      <td>0</td>\n",
       "      <td>0</td>\n",
       "    </tr>\n",
       "    <tr>\n",
       "      <th>2</th>\n",
       "      <td>34</td>\n",
       "      <td>1.0</td>\n",
       "      <td>?</td>\n",
       "      <td>1.0</td>\n",
       "      <td>0.0</td>\n",
       "      <td>0.0</td>\n",
       "      <td>0.0</td>\n",
       "      <td>0.0</td>\n",
       "      <td>0.0</td>\n",
       "      <td>0.0</td>\n",
       "      <td>...</td>\n",
       "      <td>?</td>\n",
       "      <td>?</td>\n",
       "      <td>0</td>\n",
       "      <td>0</td>\n",
       "      <td>0</td>\n",
       "      <td>0</td>\n",
       "      <td>0</td>\n",
       "      <td>0</td>\n",
       "      <td>0</td>\n",
       "      <td>0</td>\n",
       "    </tr>\n",
       "    <tr>\n",
       "      <th>3</th>\n",
       "      <td>52</td>\n",
       "      <td>5.0</td>\n",
       "      <td>16.0</td>\n",
       "      <td>4.0</td>\n",
       "      <td>1.0</td>\n",
       "      <td>37.0</td>\n",
       "      <td>37.0</td>\n",
       "      <td>1.0</td>\n",
       "      <td>3.0</td>\n",
       "      <td>0.0</td>\n",
       "      <td>...</td>\n",
       "      <td>?</td>\n",
       "      <td>?</td>\n",
       "      <td>1</td>\n",
       "      <td>0</td>\n",
       "      <td>1</td>\n",
       "      <td>0</td>\n",
       "      <td>0</td>\n",
       "      <td>0</td>\n",
       "      <td>0</td>\n",
       "      <td>0</td>\n",
       "    </tr>\n",
       "    <tr>\n",
       "      <th>4</th>\n",
       "      <td>46</td>\n",
       "      <td>3.0</td>\n",
       "      <td>21.0</td>\n",
       "      <td>4.0</td>\n",
       "      <td>0.0</td>\n",
       "      <td>0.0</td>\n",
       "      <td>0.0</td>\n",
       "      <td>1.0</td>\n",
       "      <td>15.0</td>\n",
       "      <td>0.0</td>\n",
       "      <td>...</td>\n",
       "      <td>?</td>\n",
       "      <td>?</td>\n",
       "      <td>0</td>\n",
       "      <td>0</td>\n",
       "      <td>0</td>\n",
       "      <td>0</td>\n",
       "      <td>0</td>\n",
       "      <td>0</td>\n",
       "      <td>0</td>\n",
       "      <td>0</td>\n",
       "    </tr>\n",
       "  </tbody>\n",
       "</table>\n",
       "<p>5 rows × 36 columns</p>\n",
       "</div>"
      ],
      "text/plain": [
       "   Age Number of sexual partners First sexual intercourse Num of pregnancies  \\\n",
       "0   18                       4.0                     15.0                1.0   \n",
       "1   15                       1.0                     14.0                1.0   \n",
       "2   34                       1.0                        ?                1.0   \n",
       "3   52                       5.0                     16.0                4.0   \n",
       "4   46                       3.0                     21.0                4.0   \n",
       "\n",
       "  Smokes Smokes (years) Smokes (packs/year) Hormonal Contraceptives  \\\n",
       "0    0.0            0.0                 0.0                     0.0   \n",
       "1    0.0            0.0                 0.0                     0.0   \n",
       "2    0.0            0.0                 0.0                     0.0   \n",
       "3    1.0           37.0                37.0                     1.0   \n",
       "4    0.0            0.0                 0.0                     1.0   \n",
       "\n",
       "  Hormonal Contraceptives (years)  IUD  ... STDs: Time since first diagnosis  \\\n",
       "0                             0.0  0.0  ...                                ?   \n",
       "1                             0.0  0.0  ...                                ?   \n",
       "2                             0.0  0.0  ...                                ?   \n",
       "3                             3.0  0.0  ...                                ?   \n",
       "4                            15.0  0.0  ...                                ?   \n",
       "\n",
       "  STDs: Time since last diagnosis Dx:Cancer Dx:CIN Dx:HPV Dx Hinselmann  \\\n",
       "0                               ?         0      0      0  0          0   \n",
       "1                               ?         0      0      0  0          0   \n",
       "2                               ?         0      0      0  0          0   \n",
       "3                               ?         1      0      1  0          0   \n",
       "4                               ?         0      0      0  0          0   \n",
       "\n",
       "  Schiller Citology Biopsy  \n",
       "0        0        0      0  \n",
       "1        0        0      0  \n",
       "2        0        0      0  \n",
       "3        0        0      0  \n",
       "4        0        0      0  \n",
       "\n",
       "[5 rows x 36 columns]"
      ]
     },
     "execution_count": 69,
     "metadata": {},
     "output_type": "execute_result"
    }
   ],
   "source": [
    "dataframe.head()"
   ]
  },
  {
   "cell_type": "markdown",
   "id": "b92459c2-b535-4645-b0de-c6a5cd9c967d",
   "metadata": {},
   "source": [
    "## Converting \"?\" to numpy NaN"
   ]
  },
  {
   "cell_type": "code",
   "execution_count": 70,
   "id": "acf07900-2f08-4be2-94a7-7c7172a42470",
   "metadata": {},
   "outputs": [],
   "source": [
    "dataframe[dataframe == \"?\"] = np.nan"
   ]
  },
  {
   "cell_type": "code",
   "execution_count": 71,
   "id": "e6b3467e-5a80-4f8c-854b-16ddc3aac2d8",
   "metadata": {},
   "outputs": [
    {
     "name": "stdout",
     "output_type": "stream",
     "text": [
      "<class 'pandas.core.frame.DataFrame'>\n",
      "RangeIndex: 858 entries, 0 to 857\n",
      "Data columns (total 36 columns):\n",
      " #   Column                              Non-Null Count  Dtype \n",
      "---  ------                              --------------  ----- \n",
      " 0   Age                                 858 non-null    int64 \n",
      " 1   Number of sexual partners           832 non-null    object\n",
      " 2   First sexual intercourse            851 non-null    object\n",
      " 3   Num of pregnancies                  802 non-null    object\n",
      " 4   Smokes                              845 non-null    object\n",
      " 5   Smokes (years)                      845 non-null    object\n",
      " 6   Smokes (packs/year)                 845 non-null    object\n",
      " 7   Hormonal Contraceptives             750 non-null    object\n",
      " 8   Hormonal Contraceptives (years)     750 non-null    object\n",
      " 9   IUD                                 741 non-null    object\n",
      " 10  IUD (years)                         741 non-null    object\n",
      " 11  STDs                                753 non-null    object\n",
      " 12  STDs (number)                       753 non-null    object\n",
      " 13  STDs:condylomatosis                 753 non-null    object\n",
      " 14  STDs:cervical condylomatosis        753 non-null    object\n",
      " 15  STDs:vaginal condylomatosis         753 non-null    object\n",
      " 16  STDs:vulvo-perineal condylomatosis  753 non-null    object\n",
      " 17  STDs:syphilis                       753 non-null    object\n",
      " 18  STDs:pelvic inflammatory disease    753 non-null    object\n",
      " 19  STDs:genital herpes                 753 non-null    object\n",
      " 20  STDs:molluscum contagiosum          753 non-null    object\n",
      " 21  STDs:AIDS                           753 non-null    object\n",
      " 22  STDs:HIV                            753 non-null    object\n",
      " 23  STDs:Hepatitis B                    753 non-null    object\n",
      " 24  STDs:HPV                            753 non-null    object\n",
      " 25  STDs: Number of diagnosis           858 non-null    int64 \n",
      " 26  STDs: Time since first diagnosis    71 non-null     object\n",
      " 27  STDs: Time since last diagnosis     71 non-null     object\n",
      " 28  Dx:Cancer                           858 non-null    int64 \n",
      " 29  Dx:CIN                              858 non-null    int64 \n",
      " 30  Dx:HPV                              858 non-null    int64 \n",
      " 31  Dx                                  858 non-null    int64 \n",
      " 32  Hinselmann                          858 non-null    int64 \n",
      " 33  Schiller                            858 non-null    int64 \n",
      " 34  Citology                            858 non-null    int64 \n",
      " 35  Biopsy                              858 non-null    int64 \n",
      "dtypes: int64(10), object(26)\n",
      "memory usage: 241.4+ KB\n"
     ]
    }
   ],
   "source": [
    "dataframe.info()"
   ]
  },
  {
   "cell_type": "markdown",
   "id": "5b7de7da-4b34-4124-978e-7ba758198c31",
   "metadata": {},
   "source": [
    "## Droping Columns which contains a lot of null values"
   ]
  },
  {
   "cell_type": "code",
   "execution_count": 29,
   "id": "5f3cbd13-96da-4ce4-bce5-10e82da1b9d9",
   "metadata": {},
   "outputs": [],
   "source": [
    "dataframe.drop(columns=[\"STDs: Time since first diagnosis\",\"STDs: Time since last diagnosis\"],inplace=True)"
   ]
  },
  {
   "cell_type": "code",
   "execution_count": 30,
   "id": "0cf0d5b9-5403-4c28-879f-820013033eef",
   "metadata": {},
   "outputs": [
    {
     "name": "stdout",
     "output_type": "stream",
     "text": [
      "<class 'pandas.core.frame.DataFrame'>\n",
      "RangeIndex: 858 entries, 0 to 857\n",
      "Data columns (total 34 columns):\n",
      " #   Column                              Non-Null Count  Dtype \n",
      "---  ------                              --------------  ----- \n",
      " 0   Age                                 858 non-null    int64 \n",
      " 1   Number of sexual partners           832 non-null    object\n",
      " 2   First sexual intercourse            851 non-null    object\n",
      " 3   Num of pregnancies                  802 non-null    object\n",
      " 4   Smokes                              845 non-null    object\n",
      " 5   Smokes (years)                      845 non-null    object\n",
      " 6   Smokes (packs/year)                 845 non-null    object\n",
      " 7   Hormonal Contraceptives             750 non-null    object\n",
      " 8   Hormonal Contraceptives (years)     750 non-null    object\n",
      " 9   IUD                                 741 non-null    object\n",
      " 10  IUD (years)                         741 non-null    object\n",
      " 11  STDs                                753 non-null    object\n",
      " 12  STDs (number)                       753 non-null    object\n",
      " 13  STDs:condylomatosis                 753 non-null    object\n",
      " 14  STDs:cervical condylomatosis        753 non-null    object\n",
      " 15  STDs:vaginal condylomatosis         753 non-null    object\n",
      " 16  STDs:vulvo-perineal condylomatosis  753 non-null    object\n",
      " 17  STDs:syphilis                       753 non-null    object\n",
      " 18  STDs:pelvic inflammatory disease    753 non-null    object\n",
      " 19  STDs:genital herpes                 753 non-null    object\n",
      " 20  STDs:molluscum contagiosum          753 non-null    object\n",
      " 21  STDs:AIDS                           753 non-null    object\n",
      " 22  STDs:HIV                            753 non-null    object\n",
      " 23  STDs:Hepatitis B                    753 non-null    object\n",
      " 24  STDs:HPV                            753 non-null    object\n",
      " 25  STDs: Number of diagnosis           858 non-null    int64 \n",
      " 26  Dx:Cancer                           858 non-null    int64 \n",
      " 27  Dx:CIN                              858 non-null    int64 \n",
      " 28  Dx:HPV                              858 non-null    int64 \n",
      " 29  Dx                                  858 non-null    int64 \n",
      " 30  Hinselmann                          858 non-null    int64 \n",
      " 31  Schiller                            858 non-null    int64 \n",
      " 32  Citology                            858 non-null    int64 \n",
      " 33  Biopsy                              858 non-null    int64 \n",
      "dtypes: int64(10), object(24)\n",
      "memory usage: 228.0+ KB\n"
     ]
    }
   ],
   "source": [
    "dataframe.info()"
   ]
  },
  {
   "cell_type": "markdown",
   "id": "cb45f5aa-bd85-4f41-82d0-6f9a29c88366",
   "metadata": {},
   "source": [
    "## Seperating different data types for next steps"
   ]
  },
  {
   "cell_type": "code",
   "execution_count": 31,
   "id": "93679a21-5269-4c37-b0a4-fae719b21956",
   "metadata": {},
   "outputs": [],
   "source": [
    "boolean_columns = dataframe.iloc[:,[4,7,9,11,13,14,15,16,17,18,19,20,21,22,23,24,26,27,28,29,30,31,32,33]]\n",
    "int_columns = dataframe.iloc[:,[0,1,2,3,5,6,8,10,12,25]]"
   ]
  },
  {
   "cell_type": "code",
   "execution_count": 32,
   "id": "de9011de-0e3f-482e-bffe-87ab20e8f70f",
   "metadata": {},
   "outputs": [
    {
     "data": {
      "text/html": [
       "<div>\n",
       "<style scoped>\n",
       "    .dataframe tbody tr th:only-of-type {\n",
       "        vertical-align: middle;\n",
       "    }\n",
       "\n",
       "    .dataframe tbody tr th {\n",
       "        vertical-align: top;\n",
       "    }\n",
       "\n",
       "    .dataframe thead th {\n",
       "        text-align: right;\n",
       "    }\n",
       "</style>\n",
       "<table border=\"1\" class=\"dataframe\">\n",
       "  <thead>\n",
       "    <tr style=\"text-align: right;\">\n",
       "      <th></th>\n",
       "      <th>Age</th>\n",
       "      <th>Number of sexual partners</th>\n",
       "      <th>First sexual intercourse</th>\n",
       "      <th>Num of pregnancies</th>\n",
       "      <th>Smokes (years)</th>\n",
       "      <th>Smokes (packs/year)</th>\n",
       "      <th>Hormonal Contraceptives (years)</th>\n",
       "      <th>IUD (years)</th>\n",
       "      <th>STDs (number)</th>\n",
       "      <th>STDs: Number of diagnosis</th>\n",
       "    </tr>\n",
       "  </thead>\n",
       "  <tbody>\n",
       "    <tr>\n",
       "      <th>0</th>\n",
       "      <td>18</td>\n",
       "      <td>4.0</td>\n",
       "      <td>15.0</td>\n",
       "      <td>1.0</td>\n",
       "      <td>0.0</td>\n",
       "      <td>0.0</td>\n",
       "      <td>0.0</td>\n",
       "      <td>0.0</td>\n",
       "      <td>0.0</td>\n",
       "      <td>0</td>\n",
       "    </tr>\n",
       "    <tr>\n",
       "      <th>1</th>\n",
       "      <td>15</td>\n",
       "      <td>1.0</td>\n",
       "      <td>14.0</td>\n",
       "      <td>1.0</td>\n",
       "      <td>0.0</td>\n",
       "      <td>0.0</td>\n",
       "      <td>0.0</td>\n",
       "      <td>0.0</td>\n",
       "      <td>0.0</td>\n",
       "      <td>0</td>\n",
       "    </tr>\n",
       "    <tr>\n",
       "      <th>2</th>\n",
       "      <td>34</td>\n",
       "      <td>1.0</td>\n",
       "      <td>NaN</td>\n",
       "      <td>1.0</td>\n",
       "      <td>0.0</td>\n",
       "      <td>0.0</td>\n",
       "      <td>0.0</td>\n",
       "      <td>0.0</td>\n",
       "      <td>0.0</td>\n",
       "      <td>0</td>\n",
       "    </tr>\n",
       "    <tr>\n",
       "      <th>3</th>\n",
       "      <td>52</td>\n",
       "      <td>5.0</td>\n",
       "      <td>16.0</td>\n",
       "      <td>4.0</td>\n",
       "      <td>37.0</td>\n",
       "      <td>37.0</td>\n",
       "      <td>3.0</td>\n",
       "      <td>0.0</td>\n",
       "      <td>0.0</td>\n",
       "      <td>0</td>\n",
       "    </tr>\n",
       "    <tr>\n",
       "      <th>4</th>\n",
       "      <td>46</td>\n",
       "      <td>3.0</td>\n",
       "      <td>21.0</td>\n",
       "      <td>4.0</td>\n",
       "      <td>0.0</td>\n",
       "      <td>0.0</td>\n",
       "      <td>15.0</td>\n",
       "      <td>0.0</td>\n",
       "      <td>0.0</td>\n",
       "      <td>0</td>\n",
       "    </tr>\n",
       "    <tr>\n",
       "      <th>...</th>\n",
       "      <td>...</td>\n",
       "      <td>...</td>\n",
       "      <td>...</td>\n",
       "      <td>...</td>\n",
       "      <td>...</td>\n",
       "      <td>...</td>\n",
       "      <td>...</td>\n",
       "      <td>...</td>\n",
       "      <td>...</td>\n",
       "      <td>...</td>\n",
       "    </tr>\n",
       "    <tr>\n",
       "      <th>853</th>\n",
       "      <td>34</td>\n",
       "      <td>3.0</td>\n",
       "      <td>18.0</td>\n",
       "      <td>0.0</td>\n",
       "      <td>0.0</td>\n",
       "      <td>0.0</td>\n",
       "      <td>0.0</td>\n",
       "      <td>0.0</td>\n",
       "      <td>0.0</td>\n",
       "      <td>0</td>\n",
       "    </tr>\n",
       "    <tr>\n",
       "      <th>854</th>\n",
       "      <td>32</td>\n",
       "      <td>2.0</td>\n",
       "      <td>19.0</td>\n",
       "      <td>1.0</td>\n",
       "      <td>0.0</td>\n",
       "      <td>0.0</td>\n",
       "      <td>8.0</td>\n",
       "      <td>0.0</td>\n",
       "      <td>0.0</td>\n",
       "      <td>0</td>\n",
       "    </tr>\n",
       "    <tr>\n",
       "      <th>855</th>\n",
       "      <td>25</td>\n",
       "      <td>2.0</td>\n",
       "      <td>17.0</td>\n",
       "      <td>0.0</td>\n",
       "      <td>0.0</td>\n",
       "      <td>0.0</td>\n",
       "      <td>0.08</td>\n",
       "      <td>0.0</td>\n",
       "      <td>0.0</td>\n",
       "      <td>0</td>\n",
       "    </tr>\n",
       "    <tr>\n",
       "      <th>856</th>\n",
       "      <td>33</td>\n",
       "      <td>2.0</td>\n",
       "      <td>24.0</td>\n",
       "      <td>2.0</td>\n",
       "      <td>0.0</td>\n",
       "      <td>0.0</td>\n",
       "      <td>0.08</td>\n",
       "      <td>0.0</td>\n",
       "      <td>0.0</td>\n",
       "      <td>0</td>\n",
       "    </tr>\n",
       "    <tr>\n",
       "      <th>857</th>\n",
       "      <td>29</td>\n",
       "      <td>2.0</td>\n",
       "      <td>20.0</td>\n",
       "      <td>1.0</td>\n",
       "      <td>0.0</td>\n",
       "      <td>0.0</td>\n",
       "      <td>0.5</td>\n",
       "      <td>0.0</td>\n",
       "      <td>0.0</td>\n",
       "      <td>0</td>\n",
       "    </tr>\n",
       "  </tbody>\n",
       "</table>\n",
       "<p>858 rows × 10 columns</p>\n",
       "</div>"
      ],
      "text/plain": [
       "     Age Number of sexual partners First sexual intercourse  \\\n",
       "0     18                       4.0                     15.0   \n",
       "1     15                       1.0                     14.0   \n",
       "2     34                       1.0                      NaN   \n",
       "3     52                       5.0                     16.0   \n",
       "4     46                       3.0                     21.0   \n",
       "..   ...                       ...                      ...   \n",
       "853   34                       3.0                     18.0   \n",
       "854   32                       2.0                     19.0   \n",
       "855   25                       2.0                     17.0   \n",
       "856   33                       2.0                     24.0   \n",
       "857   29                       2.0                     20.0   \n",
       "\n",
       "    Num of pregnancies Smokes (years) Smokes (packs/year)  \\\n",
       "0                  1.0            0.0                 0.0   \n",
       "1                  1.0            0.0                 0.0   \n",
       "2                  1.0            0.0                 0.0   \n",
       "3                  4.0           37.0                37.0   \n",
       "4                  4.0            0.0                 0.0   \n",
       "..                 ...            ...                 ...   \n",
       "853                0.0            0.0                 0.0   \n",
       "854                1.0            0.0                 0.0   \n",
       "855                0.0            0.0                 0.0   \n",
       "856                2.0            0.0                 0.0   \n",
       "857                1.0            0.0                 0.0   \n",
       "\n",
       "    Hormonal Contraceptives (years) IUD (years) STDs (number)  \\\n",
       "0                               0.0         0.0           0.0   \n",
       "1                               0.0         0.0           0.0   \n",
       "2                               0.0         0.0           0.0   \n",
       "3                               3.0         0.0           0.0   \n",
       "4                              15.0         0.0           0.0   \n",
       "..                              ...         ...           ...   \n",
       "853                             0.0         0.0           0.0   \n",
       "854                             8.0         0.0           0.0   \n",
       "855                            0.08         0.0           0.0   \n",
       "856                            0.08         0.0           0.0   \n",
       "857                             0.5         0.0           0.0   \n",
       "\n",
       "     STDs: Number of diagnosis  \n",
       "0                            0  \n",
       "1                            0  \n",
       "2                            0  \n",
       "3                            0  \n",
       "4                            0  \n",
       "..                         ...  \n",
       "853                          0  \n",
       "854                          0  \n",
       "855                          0  \n",
       "856                          0  \n",
       "857                          0  \n",
       "\n",
       "[858 rows x 10 columns]"
      ]
     },
     "execution_count": 32,
     "metadata": {},
     "output_type": "execute_result"
    }
   ],
   "source": [
    "int_columns"
   ]
  },
  {
   "cell_type": "markdown",
   "id": "c4e41199-8016-478b-b1c3-f8db04bcf794",
   "metadata": {},
   "source": [
    "## Filling null boolean values with most frequent value"
   ]
  },
  {
   "cell_type": "code",
   "execution_count": 33,
   "id": "87082b1c-85d5-42e6-9fa6-159cdf0d1d85",
   "metadata": {},
   "outputs": [],
   "source": [
    "imp_for_boolean = SimpleImputer(strategy=\"most_frequent\")"
   ]
  },
  {
   "cell_type": "code",
   "execution_count": 34,
   "id": "c35de37b-2e63-4e0a-95d4-da37a3f8b53b",
   "metadata": {},
   "outputs": [],
   "source": [
    "array_boolean = imp_for_boolean.fit_transform(boolean_columns)"
   ]
  },
  {
   "cell_type": "code",
   "execution_count": 35,
   "id": "45ad5820-0106-43b5-9a86-bbfe649983e3",
   "metadata": {},
   "outputs": [],
   "source": [
    "bolean_df = pd.DataFrame(array_boolean,columns=boolean_columns.columns)\n",
    "change_type = {\"0.0\":0,\"1.0\":1}\n",
    "bolean_df.replace(change_type,inplace=True)"
   ]
  },
  {
   "cell_type": "markdown",
   "id": "5a8d5a21-07ed-441a-ac20-6775b41c4e57",
   "metadata": {},
   "source": [
    "## Filling null int values with mean of the column"
   ]
  },
  {
   "cell_type": "code",
   "execution_count": 36,
   "id": "f0f6e441-785b-4049-8d7c-280e9d10636c",
   "metadata": {},
   "outputs": [],
   "source": [
    "imp_for_int = SimpleImputer(strategy=\"mean\")\n",
    "int_array = (imp_for_int.fit_transform(int_columns))"
   ]
  },
  {
   "cell_type": "code",
   "execution_count": 37,
   "id": "4226a8a6-287f-485b-9aa9-ab344a61b1e9",
   "metadata": {},
   "outputs": [],
   "source": [
    "int_df = pd.DataFrame(int_array,columns=int_columns.columns)\n",
    "int_df = int_df.astype(np.int64)"
   ]
  },
  {
   "cell_type": "code",
   "execution_count": 38,
   "id": "41ddb5d9-5ff7-4a1c-be61-9066500df334",
   "metadata": {},
   "outputs": [],
   "source": [
    "df = pd.concat([int_df,bolean_df],axis=1)"
   ]
  },
  {
   "cell_type": "code",
   "execution_count": 39,
   "id": "dae8a66e-f2f1-4a45-8fed-6da2bf5fd6ed",
   "metadata": {},
   "outputs": [
    {
     "name": "stdout",
     "output_type": "stream",
     "text": [
      "<class 'pandas.core.frame.DataFrame'>\n",
      "RangeIndex: 858 entries, 0 to 857\n",
      "Data columns (total 34 columns):\n",
      " #   Column                              Non-Null Count  Dtype\n",
      "---  ------                              --------------  -----\n",
      " 0   Age                                 858 non-null    int64\n",
      " 1   Number of sexual partners           858 non-null    int64\n",
      " 2   First sexual intercourse            858 non-null    int64\n",
      " 3   Num of pregnancies                  858 non-null    int64\n",
      " 4   Smokes (years)                      858 non-null    int64\n",
      " 5   Smokes (packs/year)                 858 non-null    int64\n",
      " 6   Hormonal Contraceptives (years)     858 non-null    int64\n",
      " 7   IUD (years)                         858 non-null    int64\n",
      " 8   STDs (number)                       858 non-null    int64\n",
      " 9   STDs: Number of diagnosis           858 non-null    int64\n",
      " 10  Smokes                              858 non-null    int64\n",
      " 11  Hormonal Contraceptives             858 non-null    int64\n",
      " 12  IUD                                 858 non-null    int64\n",
      " 13  STDs                                858 non-null    int64\n",
      " 14  STDs:condylomatosis                 858 non-null    int64\n",
      " 15  STDs:cervical condylomatosis        858 non-null    int64\n",
      " 16  STDs:vaginal condylomatosis         858 non-null    int64\n",
      " 17  STDs:vulvo-perineal condylomatosis  858 non-null    int64\n",
      " 18  STDs:syphilis                       858 non-null    int64\n",
      " 19  STDs:pelvic inflammatory disease    858 non-null    int64\n",
      " 20  STDs:genital herpes                 858 non-null    int64\n",
      " 21  STDs:molluscum contagiosum          858 non-null    int64\n",
      " 22  STDs:AIDS                           858 non-null    int64\n",
      " 23  STDs:HIV                            858 non-null    int64\n",
      " 24  STDs:Hepatitis B                    858 non-null    int64\n",
      " 25  STDs:HPV                            858 non-null    int64\n",
      " 26  Dx:Cancer                           858 non-null    int64\n",
      " 27  Dx:CIN                              858 non-null    int64\n",
      " 28  Dx:HPV                              858 non-null    int64\n",
      " 29  Dx                                  858 non-null    int64\n",
      " 30  Hinselmann                          858 non-null    int64\n",
      " 31  Schiller                            858 non-null    int64\n",
      " 32  Citology                            858 non-null    int64\n",
      " 33  Biopsy                              858 non-null    int64\n",
      "dtypes: int64(34)\n",
      "memory usage: 228.0 KB\n"
     ]
    }
   ],
   "source": [
    "df.info()"
   ]
  },
  {
   "cell_type": "markdown",
   "id": "9c031034-3dd6-4678-a2c6-c8509d221f32",
   "metadata": {},
   "source": [
    "# Split Data Features and Labels"
   ]
  },
  {
   "cell_type": "code",
   "execution_count": 40,
   "id": "54455b84-a418-45ea-b035-98bfcd16bef6",
   "metadata": {},
   "outputs": [],
   "source": [
    "X = df.iloc[:,:30]\n",
    "Hinselmann = df.iloc[:,30]\n",
    "Schiller = df.iloc[:,31]\n",
    "Citology = df.iloc[:,32]\n",
    "Biopsy = df.iloc[:,33]"
   ]
  },
  {
   "cell_type": "code",
   "execution_count": 41,
   "id": "e49ea8f5-88fe-4407-aea8-16128f6149d8",
   "metadata": {},
   "outputs": [
    {
     "data": {
      "text/html": [
       "<div>\n",
       "<style scoped>\n",
       "    .dataframe tbody tr th:only-of-type {\n",
       "        vertical-align: middle;\n",
       "    }\n",
       "\n",
       "    .dataframe tbody tr th {\n",
       "        vertical-align: top;\n",
       "    }\n",
       "\n",
       "    .dataframe thead th {\n",
       "        text-align: right;\n",
       "    }\n",
       "</style>\n",
       "<table border=\"1\" class=\"dataframe\">\n",
       "  <thead>\n",
       "    <tr style=\"text-align: right;\">\n",
       "      <th></th>\n",
       "      <th>Age</th>\n",
       "      <th>Number of sexual partners</th>\n",
       "      <th>First sexual intercourse</th>\n",
       "      <th>Num of pregnancies</th>\n",
       "      <th>Smokes (years)</th>\n",
       "      <th>Smokes (packs/year)</th>\n",
       "      <th>Hormonal Contraceptives (years)</th>\n",
       "      <th>IUD (years)</th>\n",
       "      <th>STDs (number)</th>\n",
       "      <th>STDs: Number of diagnosis</th>\n",
       "      <th>...</th>\n",
       "      <th>STDs:genital herpes</th>\n",
       "      <th>STDs:molluscum contagiosum</th>\n",
       "      <th>STDs:AIDS</th>\n",
       "      <th>STDs:HIV</th>\n",
       "      <th>STDs:Hepatitis B</th>\n",
       "      <th>STDs:HPV</th>\n",
       "      <th>Dx:Cancer</th>\n",
       "      <th>Dx:CIN</th>\n",
       "      <th>Dx:HPV</th>\n",
       "      <th>Dx</th>\n",
       "    </tr>\n",
       "  </thead>\n",
       "  <tbody>\n",
       "    <tr>\n",
       "      <th>0</th>\n",
       "      <td>18</td>\n",
       "      <td>4</td>\n",
       "      <td>15</td>\n",
       "      <td>1</td>\n",
       "      <td>0</td>\n",
       "      <td>0</td>\n",
       "      <td>0</td>\n",
       "      <td>0</td>\n",
       "      <td>0</td>\n",
       "      <td>0</td>\n",
       "      <td>...</td>\n",
       "      <td>0</td>\n",
       "      <td>0</td>\n",
       "      <td>0</td>\n",
       "      <td>0</td>\n",
       "      <td>0</td>\n",
       "      <td>0</td>\n",
       "      <td>0</td>\n",
       "      <td>0</td>\n",
       "      <td>0</td>\n",
       "      <td>0</td>\n",
       "    </tr>\n",
       "    <tr>\n",
       "      <th>1</th>\n",
       "      <td>15</td>\n",
       "      <td>1</td>\n",
       "      <td>14</td>\n",
       "      <td>1</td>\n",
       "      <td>0</td>\n",
       "      <td>0</td>\n",
       "      <td>0</td>\n",
       "      <td>0</td>\n",
       "      <td>0</td>\n",
       "      <td>0</td>\n",
       "      <td>...</td>\n",
       "      <td>0</td>\n",
       "      <td>0</td>\n",
       "      <td>0</td>\n",
       "      <td>0</td>\n",
       "      <td>0</td>\n",
       "      <td>0</td>\n",
       "      <td>0</td>\n",
       "      <td>0</td>\n",
       "      <td>0</td>\n",
       "      <td>0</td>\n",
       "    </tr>\n",
       "    <tr>\n",
       "      <th>2</th>\n",
       "      <td>34</td>\n",
       "      <td>1</td>\n",
       "      <td>16</td>\n",
       "      <td>1</td>\n",
       "      <td>0</td>\n",
       "      <td>0</td>\n",
       "      <td>0</td>\n",
       "      <td>0</td>\n",
       "      <td>0</td>\n",
       "      <td>0</td>\n",
       "      <td>...</td>\n",
       "      <td>0</td>\n",
       "      <td>0</td>\n",
       "      <td>0</td>\n",
       "      <td>0</td>\n",
       "      <td>0</td>\n",
       "      <td>0</td>\n",
       "      <td>0</td>\n",
       "      <td>0</td>\n",
       "      <td>0</td>\n",
       "      <td>0</td>\n",
       "    </tr>\n",
       "    <tr>\n",
       "      <th>3</th>\n",
       "      <td>52</td>\n",
       "      <td>5</td>\n",
       "      <td>16</td>\n",
       "      <td>4</td>\n",
       "      <td>37</td>\n",
       "      <td>37</td>\n",
       "      <td>3</td>\n",
       "      <td>0</td>\n",
       "      <td>0</td>\n",
       "      <td>0</td>\n",
       "      <td>...</td>\n",
       "      <td>0</td>\n",
       "      <td>0</td>\n",
       "      <td>0</td>\n",
       "      <td>0</td>\n",
       "      <td>0</td>\n",
       "      <td>0</td>\n",
       "      <td>1</td>\n",
       "      <td>0</td>\n",
       "      <td>1</td>\n",
       "      <td>0</td>\n",
       "    </tr>\n",
       "    <tr>\n",
       "      <th>4</th>\n",
       "      <td>46</td>\n",
       "      <td>3</td>\n",
       "      <td>21</td>\n",
       "      <td>4</td>\n",
       "      <td>0</td>\n",
       "      <td>0</td>\n",
       "      <td>15</td>\n",
       "      <td>0</td>\n",
       "      <td>0</td>\n",
       "      <td>0</td>\n",
       "      <td>...</td>\n",
       "      <td>0</td>\n",
       "      <td>0</td>\n",
       "      <td>0</td>\n",
       "      <td>0</td>\n",
       "      <td>0</td>\n",
       "      <td>0</td>\n",
       "      <td>0</td>\n",
       "      <td>0</td>\n",
       "      <td>0</td>\n",
       "      <td>0</td>\n",
       "    </tr>\n",
       "  </tbody>\n",
       "</table>\n",
       "<p>5 rows × 30 columns</p>\n",
       "</div>"
      ],
      "text/plain": [
       "   Age  Number of sexual partners  First sexual intercourse  \\\n",
       "0   18                          4                        15   \n",
       "1   15                          1                        14   \n",
       "2   34                          1                        16   \n",
       "3   52                          5                        16   \n",
       "4   46                          3                        21   \n",
       "\n",
       "   Num of pregnancies  Smokes (years)  Smokes (packs/year)  \\\n",
       "0                   1               0                    0   \n",
       "1                   1               0                    0   \n",
       "2                   1               0                    0   \n",
       "3                   4              37                   37   \n",
       "4                   4               0                    0   \n",
       "\n",
       "   Hormonal Contraceptives (years)  IUD (years)  STDs (number)  \\\n",
       "0                                0            0              0   \n",
       "1                                0            0              0   \n",
       "2                                0            0              0   \n",
       "3                                3            0              0   \n",
       "4                               15            0              0   \n",
       "\n",
       "   STDs: Number of diagnosis  ...  STDs:genital herpes  \\\n",
       "0                          0  ...                    0   \n",
       "1                          0  ...                    0   \n",
       "2                          0  ...                    0   \n",
       "3                          0  ...                    0   \n",
       "4                          0  ...                    0   \n",
       "\n",
       "   STDs:molluscum contagiosum  STDs:AIDS  STDs:HIV  STDs:Hepatitis B  \\\n",
       "0                           0          0         0                 0   \n",
       "1                           0          0         0                 0   \n",
       "2                           0          0         0                 0   \n",
       "3                           0          0         0                 0   \n",
       "4                           0          0         0                 0   \n",
       "\n",
       "   STDs:HPV  Dx:Cancer  Dx:CIN  Dx:HPV  Dx  \n",
       "0         0          0       0       0   0  \n",
       "1         0          0       0       0   0  \n",
       "2         0          0       0       0   0  \n",
       "3         0          1       0       1   0  \n",
       "4         0          0       0       0   0  \n",
       "\n",
       "[5 rows x 30 columns]"
      ]
     },
     "execution_count": 41,
     "metadata": {},
     "output_type": "execute_result"
    }
   ],
   "source": [
    "X.head()"
   ]
  },
  {
   "cell_type": "markdown",
   "id": "19f969d2-fe88-4300-accc-e70f94f8d4b8",
   "metadata": {
    "tags": []
   },
   "source": [
    "## Split Data as Training and Testing"
   ]
  },
  {
   "cell_type": "code",
   "execution_count": 49,
   "id": "e09ed0b7-4532-4ab1-9112-85497c4a85b4",
   "metadata": {},
   "outputs": [],
   "source": [
    "X_trainH,X_testH,y_trainH,y_testH = train_test_split(X,Hinselmann,test_size=0.33,random_state=42)\n",
    "X_trainS,X_testS,y_trainS,y_testS = train_test_split(X,Schiller,test_size=0.33,random_state=42)\n",
    "X_trainC,X_testC,y_trainC,y_testC = train_test_split(X,Citology,test_size=0.33,random_state=42)\n",
    "X_trainB,X_testB,y_trainB,y_testB = train_test_split(X,Biopsy,test_size=0.33,random_state=42)"
   ]
  },
  {
   "cell_type": "code",
   "execution_count": 73,
   "id": "63c686fc-d50c-4527-8164-5bbb6cdf4be2",
   "metadata": {
    "tags": []
   },
   "outputs": [
    {
     "name": "stderr",
     "output_type": "stream",
     "text": [
      "C:\\Users\\Baran\\anaconda3\\lib\\site-packages\\sklearn\\utils\\deprecation.py:103: FutureWarning: Attribute `coef_` was deprecated in version 0.24 and will be removed in 1.1 (renaming of 0.26).\n",
      "  warnings.warn(msg, category=FutureWarning)\n",
      "C:\\Users\\Baran\\anaconda3\\lib\\site-packages\\sklearn\\utils\\deprecation.py:103: FutureWarning: Attribute `coef_` was deprecated in version 0.24 and will be removed in 1.1 (renaming of 0.26).\n",
      "  warnings.warn(msg, category=FutureWarning)\n",
      "C:\\Users\\Baran\\anaconda3\\lib\\site-packages\\sklearn\\utils\\deprecation.py:103: FutureWarning: Attribute `coef_` was deprecated in version 0.24 and will be removed in 1.1 (renaming of 0.26).\n",
      "  warnings.warn(msg, category=FutureWarning)\n",
      "C:\\Users\\Baran\\anaconda3\\lib\\site-packages\\sklearn\\utils\\deprecation.py:103: FutureWarning: Attribute `coef_` was deprecated in version 0.24 and will be removed in 1.1 (renaming of 0.26).\n",
      "  warnings.warn(msg, category=FutureWarning)\n",
      "C:\\Users\\Baran\\anaconda3\\lib\\site-packages\\sklearn\\utils\\deprecation.py:103: FutureWarning: Attribute `coef_` was deprecated in version 0.24 and will be removed in 1.1 (renaming of 0.26).\n",
      "  warnings.warn(msg, category=FutureWarning)\n"
     ]
    }
   ],
   "source": [
    "model = ComplementNB()\n",
    "\n",
    "rfe = RFE(estimator=model,n_features_to_select=25)\n",
    "\n",
    "pipeline = Pipeline(steps=[(\"s\",rfe),(\"m\",model)])\n",
    "\n",
    "pipeline.fit(X_trainH,y_trainH)\n",
    "\n",
    "ypred = pipeline.predict(X_testH)"
   ]
  },
  {
   "cell_type": "code",
   "execution_count": 74,
   "id": "094c3e73-c92b-4aad-bf77-9f65eec49038",
   "metadata": {},
   "outputs": [
    {
     "name": "stdout",
     "output_type": "stream",
     "text": [
      "              precision    recall  f1-score   support\n",
      "\n",
      "           0       0.97      0.93      0.95       272\n",
      "           1       0.14      0.25      0.18        12\n",
      "\n",
      "    accuracy                           0.90       284\n",
      "   macro avg       0.55      0.59      0.56       284\n",
      "weighted avg       0.93      0.90      0.91       284\n",
      "\n"
     ]
    }
   ],
   "source": [
    "print(classification_report(y_testH,ypred))"
   ]
  },
  {
   "cell_type": "code",
   "execution_count": 64,
   "id": "7abd533d-ebf6-4b68-8f38-9a319a127f5c",
   "metadata": {},
   "outputs": [],
   "source": [
    "cm = confusion_matrix(y_testH,ypred)"
   ]
  },
  {
   "cell_type": "code",
   "execution_count": 72,
   "id": "3682c440-7deb-492d-ace1-4ef40e9711cf",
   "metadata": {},
   "outputs": [
    {
     "data": {
      "text/plain": [
       "<sklearn.metrics._plot.confusion_matrix.ConfusionMatrixDisplay at 0x21ba4610a90>"
      ]
     },
     "execution_count": 72,
     "metadata": {},
     "output_type": "execute_result"
    },
    {
     "data": {
      "image/png": "[encoded data removed]",
      "text/plain": [
       "<Figure size 432x288 with 2 Axes>"
      ]
     },
     "metadata": {
      "needs_background": "light"
     },
     "output_type": "display_data"
    }
   ],
   "source": [
    "ConfusionMatrixDisplay(confusion_matrix=cm,display_labels=[\"Not Patient\",\"Patient\"]).plot()"
   ]
  },
  {
   "cell_type": "code",
   "execution_count": 87,
   "id": "b29435e3-fd3a-41f2-8e14-a5114a1e505c",
   "metadata": {},
   "outputs": [
    {
     "name": "stderr",
     "output_type": "stream",
     "text": [
      "C:\\Users\\Baran\\anaconda3\\lib\\site-packages\\sklearn\\utils\\deprecation.py:103: FutureWarning: Attribute `coef_` was deprecated in version 0.24 and will be removed in 1.1 (renaming of 0.26).\n",
      "  warnings.warn(msg, category=FutureWarning)\n",
      "C:\\Users\\Baran\\anaconda3\\lib\\site-packages\\sklearn\\utils\\deprecation.py:103: FutureWarning: Attribute `coef_` was deprecated in version 0.24 and will be removed in 1.1 (renaming of 0.26).\n",
      "  warnings.warn(msg, category=FutureWarning)\n",
      "C:\\Users\\Baran\\anaconda3\\lib\\site-packages\\sklearn\\utils\\deprecation.py:103: FutureWarning: Attribute `coef_` was deprecated in version 0.24 and will be removed in 1.1 (renaming of 0.26).\n",
      "  warnings.warn(msg, category=FutureWarning)\n",
      "C:\\Users\\Baran\\anaconda3\\lib\\site-packages\\sklearn\\utils\\deprecation.py:103: FutureWarning: Attribute `coef_` was deprecated in version 0.24 and will be removed in 1.1 (renaming of 0.26).\n",
      "  warnings.warn(msg, category=FutureWarning)\n",
      "C:\\Users\\Baran\\anaconda3\\lib\\site-packages\\sklearn\\utils\\deprecation.py:103: FutureWarning: Attribute `coef_` was deprecated in version 0.24 and will be removed in 1.1 (renaming of 0.26).\n",
      "  warnings.warn(msg, category=FutureWarning)\n",
      "C:\\Users\\Baran\\anaconda3\\lib\\site-packages\\sklearn\\utils\\deprecation.py:103: FutureWarning: Attribute `coef_` was deprecated in version 0.24 and will be removed in 1.1 (renaming of 0.26).\n",
      "  warnings.warn(msg, category=FutureWarning)\n",
      "C:\\Users\\Baran\\anaconda3\\lib\\site-packages\\sklearn\\utils\\deprecation.py:103: FutureWarning: Attribute `coef_` was deprecated in version 0.24 and will be removed in 1.1 (renaming of 0.26).\n",
      "  warnings.warn(msg, category=FutureWarning)\n",
      "C:\\Users\\Baran\\anaconda3\\lib\\site-packages\\sklearn\\utils\\deprecation.py:103: FutureWarning: Attribute `coef_` was deprecated in version 0.24 and will be removed in 1.1 (renaming of 0.26).\n",
      "  warnings.warn(msg, category=FutureWarning)\n",
      "C:\\Users\\Baran\\anaconda3\\lib\\site-packages\\sklearn\\utils\\deprecation.py:103: FutureWarning: Attribute `coef_` was deprecated in version 0.24 and will be removed in 1.1 (renaming of 0.26).\n",
      "  warnings.warn(msg, category=FutureWarning)\n",
      "C:\\Users\\Baran\\anaconda3\\lib\\site-packages\\sklearn\\utils\\deprecation.py:103: FutureWarning: Attribute `coef_` was deprecated in version 0.24 and will be removed in 1.1 (renaming of 0.26).\n",
      "  warnings.warn(msg, category=FutureWarning)\n",
      "C:\\Users\\Baran\\anaconda3\\lib\\site-packages\\sklearn\\utils\\deprecation.py:103: FutureWarning: Attribute `coef_` was deprecated in version 0.24 and will be removed in 1.1 (renaming of 0.26).\n",
      "  warnings.warn(msg, category=FutureWarning)\n",
      "C:\\Users\\Baran\\anaconda3\\lib\\site-packages\\sklearn\\utils\\deprecation.py:103: FutureWarning: Attribute `coef_` was deprecated in version 0.24 and will be removed in 1.1 (renaming of 0.26).\n",
      "  warnings.warn(msg, category=FutureWarning)\n",
      "C:\\Users\\Baran\\anaconda3\\lib\\site-packages\\sklearn\\utils\\deprecation.py:103: FutureWarning: Attribute `coef_` was deprecated in version 0.24 and will be removed in 1.1 (renaming of 0.26).\n",
      "  warnings.warn(msg, category=FutureWarning)\n",
      "C:\\Users\\Baran\\anaconda3\\lib\\site-packages\\sklearn\\utils\\deprecation.py:103: FutureWarning: Attribute `coef_` was deprecated in version 0.24 and will be removed in 1.1 (renaming of 0.26).\n",
      "  warnings.warn(msg, category=FutureWarning)\n",
      "C:\\Users\\Baran\\anaconda3\\lib\\site-packages\\sklearn\\utils\\deprecation.py:103: FutureWarning: Attribute `coef_` was deprecated in version 0.24 and will be removed in 1.1 (renaming of 0.26).\n",
      "  warnings.warn(msg, category=FutureWarning)\n"
     ]
    }
   ],
   "source": [
    "model2 = ComplementNB()\n",
    "\n",
    "rfe2 = RFE(estimator=model2,n_features_to_select=15)\n",
    "\n",
    "pipeline2 = Pipeline(steps=[(\"s\",rfe2),(\"m\",model2)])\n",
    "\n",
    "pipeline2.fit(X_trainS,y_trainS)\n",
    "\n",
    "ypred2 = pipeline2.predict(X_testS)"
   ]
  },
  {
   "cell_type": "code",
   "execution_count": 88,
   "id": "75503e75-8346-4f71-aa6e-bdae828649f8",
   "metadata": {},
   "outputs": [
    {
     "name": "stdout",
     "output_type": "stream",
     "text": [
      "              precision    recall  f1-score   support\n",
      "\n",
      "           0       0.93      0.97      0.95       260\n",
      "           1       0.36      0.21      0.26        24\n",
      "\n",
      "    accuracy                           0.90       284\n",
      "   macro avg       0.64      0.59      0.61       284\n",
      "weighted avg       0.88      0.90      0.89       284\n",
      "\n"
     ]
    }
   ],
   "source": [
    "print(classification_report(y_testS,ypred2))"
   ]
  },
  {
   "cell_type": "code",
   "execution_count": 89,
   "id": "ff6fd1b6-610e-4e51-ba69-6893e6d6c693",
   "metadata": {},
   "outputs": [
    {
     "name": "stdout",
     "output_type": "stream",
     "text": [
      "[[251   9]\n",
      " [ 19   5]]\n"
     ]
    }
   ],
   "source": [
    "print(confusion_matrix(y_testS,ypred2))"
   ]
  },
  {
   "cell_type": "markdown",
   "id": "8243381c-be49-4104-99ae-3bdb73f79c10",
   "metadata": {},
   "source": [
    "<h1 style=\"color:green;\">Naive Bayes</h1>"
   ]
  },
  {
   "cell_type": "code",
   "execution_count": 55,
   "id": "41c4499f-e88d-4975-b7b6-a1d51f2ea6bf",
   "metadata": {},
   "outputs": [],
   "source": [
    "cnb = ComplementNB()"
   ]
  },
  {
   "cell_type": "markdown",
   "id": "31ebeec0-d7a5-48cd-9e77-1747dcb32f6b",
   "metadata": {
    "tags": []
   },
   "source": [
    "## Naive Bayes for classification of Hinselmann target variable"
   ]
  },
  {
   "cell_type": "code",
   "execution_count": 56,
   "id": "439a9395-ac16-4704-966f-a0214d520fdf",
   "metadata": {},
   "outputs": [
    {
     "data": {
      "text/plain": [
       "ComplementNB()"
      ]
     },
     "execution_count": 56,
     "metadata": {},
     "output_type": "execute_result"
    }
   ],
   "source": [
    "cnb.fit(X_trainH,y_trainH)"
   ]
  },
  {
   "cell_type": "code",
   "execution_count": 57,
   "id": "8ba8a99a-a512-4a6c-a506-79bffed6666a",
   "metadata": {},
   "outputs": [],
   "source": [
    "y_predH = cnb.predict(X_testH)"
   ]
  },
  {
   "cell_type": "code",
   "execution_count": 58,
   "id": "8617c8c8-da0a-4d18-8aac-70ca964dec67",
   "metadata": {},
   "outputs": [],
   "source": [
    "cmH = confusion_matrix(y_testH,y_predH)"
   ]
  },
  {
   "cell_type": "code",
   "execution_count": 59,
   "id": "d862364f-76d4-4dab-b05a-377b97052e29",
   "metadata": {},
   "outputs": [
    {
     "name": "stdout",
     "output_type": "stream",
     "text": [
      "[[252  20]\n",
      " [ 10   2]]\n"
     ]
    }
   ],
   "source": [
    "print(cmH)"
   ]
  },
  {
   "cell_type": "code",
   "execution_count": 60,
   "id": "99d1015a-139c-4a1a-ba01-34a70038c1d8",
   "metadata": {},
   "outputs": [],
   "source": [
    "clf_report = classification_report(y_testH,y_predH,target_names=[\"Negative\",\"Positive\"],output_dict=True)"
   ]
  },
  {
   "cell_type": "code",
   "execution_count": 61,
   "id": "f9840635-1ef0-4d53-9db0-90148edbdbd8",
   "metadata": {},
   "outputs": [
    {
     "name": "stdout",
     "output_type": "stream",
     "text": [
      "              precision    recall  f1-score   support\n",
      "\n",
      "    Negative       0.96      0.93      0.94       272\n",
      "    Positive       0.09      0.17      0.12        12\n",
      "\n",
      "    accuracy                           0.89       284\n",
      "   macro avg       0.53      0.55      0.53       284\n",
      "weighted avg       0.93      0.89      0.91       284\n",
      "\n"
     ]
    }
   ],
   "source": [
    "print(classification_report(y_testH,y_predH,target_names=[\"Negative\",\"Positive\"]))"
   ]
  },
  {
   "cell_type": "markdown",
   "id": "72b52872-c065-4e6c-8c8d-09790a591a0b",
   "metadata": {},
   "source": [
    "## Naive Bayes for classification of Schiller target variable"
   ]
  },
  {
   "cell_type": "code",
   "execution_count": 35,
   "id": "17902ec7-9aed-4690-8988-a5bde0d3bb4b",
   "metadata": {},
   "outputs": [],
   "source": [
    "y_predS = cnb.fit(X_trainS,y_trainS).predict(X_testS)"
   ]
  },
  {
   "cell_type": "code",
   "execution_count": 36,
   "id": "795fafba-4e25-4937-899f-fc3ed3cc0da7",
   "metadata": {},
   "outputs": [],
   "source": [
    "clf_report_2 = classification_report(y_testS,y_predS,target_names=[\"Negative\",\"Positive\"])"
   ]
  },
  {
   "cell_type": "code",
   "execution_count": 37,
   "id": "2e626a1a-270b-4072-a313-9272a661122a",
   "metadata": {},
   "outputs": [
    {
     "name": "stdout",
     "output_type": "stream",
     "text": [
      "              precision    recall  f1-score   support\n",
      "\n",
      "    Negative       0.96      0.85      0.90       237\n",
      "    Positive       0.26      0.57      0.35        21\n",
      "\n",
      "    accuracy                           0.83       258\n",
      "   macro avg       0.61      0.71      0.63       258\n",
      "weighted avg       0.90      0.83      0.86       258\n",
      "\n"
     ]
    }
   ],
   "source": [
    "print(clf_report_2)"
   ]
  },
  {
   "cell_type": "code",
   "execution_count": 38,
   "id": "4e9a4626-5192-4a73-85b5-3e85a07a0fdc",
   "metadata": {},
   "outputs": [
    {
     "data": {
      "text/plain": [
       "0.8294573643410853"
      ]
     },
     "execution_count": 38,
     "metadata": {},
     "output_type": "execute_result"
    }
   ],
   "source": [
    "metrics.accuracy_score(y_testS,y_predS)"
   ]
  },
  {
   "cell_type": "markdown",
   "id": "32836ef1-ea32-4639-8d0e-1c57de0db498",
   "metadata": {},
   "source": [
    "## Naive Bayes for classification of Citology target variable"
   ]
  },
  {
   "cell_type": "code",
   "execution_count": 39,
   "id": "0f552eff-dccc-48e2-9144-6511d7b4e806",
   "metadata": {},
   "outputs": [],
   "source": [
    "y_predC = cnb.fit(X_trainC,y_trainC).predict(X_testC)"
   ]
  },
  {
   "cell_type": "code",
   "execution_count": 40,
   "id": "d63d1493-927b-4cbe-be32-504c8d8bb0a5",
   "metadata": {},
   "outputs": [],
   "source": [
    "clf_report_3 = classification_report(y_testC,y_predC,target_names=[\"Negative\",\"Positive\"])"
   ]
  },
  {
   "cell_type": "code",
   "execution_count": 41,
   "id": "7c03d903-1c85-4b7c-86af-9cd81373a09f",
   "metadata": {},
   "outputs": [
    {
     "name": "stdout",
     "output_type": "stream",
     "text": [
      "              precision    recall  f1-score   support\n",
      "\n",
      "    Negative       0.98      0.77      0.86       250\n",
      "    Positive       0.06      0.50      0.11         8\n",
      "\n",
      "    accuracy                           0.76       258\n",
      "   macro avg       0.52      0.63      0.49       258\n",
      "weighted avg       0.95      0.76      0.84       258\n",
      "\n"
     ]
    }
   ],
   "source": [
    "print(clf_report_3)"
   ]
  },
  {
   "cell_type": "markdown",
   "id": "5fd4d984-61af-456d-9861-8c83a9492bd9",
   "metadata": {},
   "source": [
    "## Naive Bayes for classification of Biopsy target variable"
   ]
  },
  {
   "cell_type": "code",
   "execution_count": 42,
   "id": "d703befb-3b88-4db2-8f7b-613fdc9ddd70",
   "metadata": {},
   "outputs": [],
   "source": [
    "y_predB = cnb.fit(X_trainB,y_trainB).predict(X_testB)"
   ]
  },
  {
   "cell_type": "code",
   "execution_count": 43,
   "id": "4dfe053e-5f88-4542-8840-132c6f365813",
   "metadata": {},
   "outputs": [],
   "source": [
    "clf_report_4 = classification_report(y_testB,y_predB,target_names=[\"Negative\",\"Positive\"])"
   ]
  },
  {
   "cell_type": "code",
   "execution_count": 44,
   "id": "23822be1-cb12-4453-a6a1-9c15d39cf7de",
   "metadata": {},
   "outputs": [
    {
     "name": "stdout",
     "output_type": "stream",
     "text": [
      "              precision    recall  f1-score   support\n",
      "\n",
      "    Negative       0.96      0.90      0.93       243\n",
      "    Positive       0.17      0.33      0.22        15\n",
      "\n",
      "    accuracy                           0.86       258\n",
      "   macro avg       0.56      0.62      0.57       258\n",
      "weighted avg       0.91      0.86      0.88       258\n",
      "\n"
     ]
    }
   ],
   "source": [
    "print(clf_report_4)"
   ]
  },
  {
   "cell_type": "code",
   "execution_count": 45,
   "id": "8c20c797-858f-46e4-9ae4-65ebf396da30",
   "metadata": {},
   "outputs": [
    {
     "data": {
      "text/plain": [
       "0.8643410852713178"
      ]
     },
     "execution_count": 45,
     "metadata": {},
     "output_type": "execute_result"
    }
   ],
   "source": [
    "metrics.accuracy_score(y_testB,y_predB)"
   ]
  },
  {
   "cell_type": "markdown",
   "id": "76ebf5b4-307d-46bf-8a64-6ce304bfacf5",
   "metadata": {},
   "source": [
    "<h1 style=\"color:green;\">K Nearest Neighbors</h1>"
   ]
  },
  {
   "cell_type": "markdown",
   "id": "27667fae-3032-4cfe-98c4-74629130b6c2",
   "metadata": {},
   "source": [
    "## K Nearest Neighbors for classification of Hinselmann target variable"
   ]
  },
  {
   "cell_type": "code",
   "execution_count": 46,
   "id": "be7852b3-6bff-4a11-9b4e-52b7f9087abc",
   "metadata": {},
   "outputs": [],
   "source": [
    "clfH = neighbors.KNeighborsClassifier()"
   ]
  },
  {
   "cell_type": "code",
   "execution_count": 47,
   "id": "061bbdd4-ae6e-4c7b-8318-11084859a37b",
   "metadata": {},
   "outputs": [
    {
     "data": {
      "text/plain": [
       "KNeighborsClassifier()"
      ]
     },
     "execution_count": 47,
     "metadata": {},
     "output_type": "execute_result"
    }
   ],
   "source": [
    "clfH.fit(X_trainH,y_trainH)"
   ]
  },
  {
   "cell_type": "code",
   "execution_count": 48,
   "id": "f3f5ecb3-5a78-43bf-b685-d778ab30e78d",
   "metadata": {},
   "outputs": [],
   "source": [
    "y_predH = clfH.predict(X_testH)"
   ]
  },
  {
   "cell_type": "code",
   "execution_count": 49,
   "id": "8554219d-dc6c-475e-98da-9e7d66639ff0",
   "metadata": {},
   "outputs": [],
   "source": [
    "cmH = confusion_matrix(y_testH,y_predH)"
   ]
  },
  {
   "cell_type": "code",
   "execution_count": 50,
   "id": "98ca0543-77a4-4b6d-8d7d-ca87d0401716",
   "metadata": {},
   "outputs": [
    {
     "data": {
      "text/plain": [
       "array([[248,   0],\n",
       "       [ 10,   0]], dtype=int64)"
      ]
     },
     "execution_count": 50,
     "metadata": {},
     "output_type": "execute_result"
    }
   ],
   "source": [
    "cmH"
   ]
  },
  {
   "cell_type": "code",
   "execution_count": 51,
   "id": "701be972-4bfe-41be-9d9b-0e4ec62c5852",
   "metadata": {},
   "outputs": [],
   "source": [
    "crpH = classification_report(y_testH,y_predH\n",
    "                           ,zero_division=1)"
   ]
  },
  {
   "cell_type": "code",
   "execution_count": 52,
   "id": "c7a2e2e3-5b50-4908-9591-3efa3929e020",
   "metadata": {},
   "outputs": [
    {
     "data": {
      "text/plain": [
       "0.9612403100775194"
      ]
     },
     "execution_count": 52,
     "metadata": {},
     "output_type": "execute_result"
    }
   ],
   "source": [
    "clfH.score(X_testH,y_testH)"
   ]
  },
  {
   "cell_type": "code",
   "execution_count": 53,
   "id": "d1e3e8cb-f7b6-4f1c-8288-b40890d11562",
   "metadata": {},
   "outputs": [
    {
     "name": "stdout",
     "output_type": "stream",
     "text": [
      "              precision    recall  f1-score   support\n",
      "\n",
      "           0       0.96      1.00      0.98       248\n",
      "           1       1.00      0.00      0.00        10\n",
      "\n",
      "    accuracy                           0.96       258\n",
      "   macro avg       0.98      0.50      0.49       258\n",
      "weighted avg       0.96      0.96      0.94       258\n",
      "\n"
     ]
    }
   ],
   "source": [
    "print(crpH)"
   ]
  },
  {
   "cell_type": "markdown",
   "id": "ebf852f7-b25e-4453-8e1d-1d011e56a015",
   "metadata": {},
   "source": [
    "## K Nearest Neighbors for classification of Schiller target variable"
   ]
  },
  {
   "cell_type": "code",
   "execution_count": 54,
   "id": "2660c8d5-7e60-47ce-9d54-518b4cdcb508",
   "metadata": {},
   "outputs": [],
   "source": [
    "clfS = neighbors.KNeighborsClassifier()"
   ]
  },
  {
   "cell_type": "code",
   "execution_count": 55,
   "id": "0bdbbe07-0624-45bd-9aca-6771e3816ad5",
   "metadata": {},
   "outputs": [
    {
     "data": {
      "text/plain": [
       "KNeighborsClassifier()"
      ]
     },
     "execution_count": 55,
     "metadata": {},
     "output_type": "execute_result"
    }
   ],
   "source": [
    "clfS.fit(X_trainS,y_trainS)"
   ]
  },
  {
   "cell_type": "code",
   "execution_count": 56,
   "id": "e3827a1b-0dc9-4ca0-947c-3b5fecf70ef0",
   "metadata": {},
   "outputs": [
    {
     "data": {
      "text/plain": [
       "0.9108527131782945"
      ]
     },
     "execution_count": 56,
     "metadata": {},
     "output_type": "execute_result"
    }
   ],
   "source": [
    "clfS.score(X_testS,y_testS)"
   ]
  },
  {
   "cell_type": "code",
   "execution_count": 57,
   "id": "eabe8a9e-4e75-4185-8c40-32f9aa8d0b61",
   "metadata": {},
   "outputs": [],
   "source": [
    "y_predS = clfS.predict(X_testS)"
   ]
  },
  {
   "cell_type": "code",
   "execution_count": 58,
   "id": "76c2c900-a652-4d71-9b73-8541c5a33653",
   "metadata": {},
   "outputs": [
    {
     "data": {
      "text/plain": [
       "array([[234,   3],\n",
       "       [ 20,   1]], dtype=int64)"
      ]
     },
     "execution_count": 58,
     "metadata": {},
     "output_type": "execute_result"
    }
   ],
   "source": [
    "confusion_matrix(y_testS,y_predS)"
   ]
  },
  {
   "cell_type": "code",
   "execution_count": 59,
   "id": "be6e08d7-943d-46d0-a9ff-96912761b940",
   "metadata": {},
   "outputs": [
    {
     "name": "stdout",
     "output_type": "stream",
     "text": [
      "              precision    recall  f1-score   support\n",
      "\n",
      "           0       0.92      0.99      0.95       237\n",
      "           1       0.25      0.05      0.08        21\n",
      "\n",
      "    accuracy                           0.91       258\n",
      "   macro avg       0.59      0.52      0.52       258\n",
      "weighted avg       0.87      0.91      0.88       258\n",
      "\n"
     ]
    }
   ],
   "source": [
    "print(classification_report(y_testS,y_predS))"
   ]
  },
  {
   "cell_type": "markdown",
   "id": "3310cf99-268a-48c5-9d7b-b9f210672d41",
   "metadata": {},
   "source": [
    "## K Nearest Neighbors for classification of Citology target variable"
   ]
  },
  {
   "cell_type": "code",
   "execution_count": 60,
   "id": "d4755de0-e775-4de1-a835-ae9ed2d87e92",
   "metadata": {},
   "outputs": [],
   "source": [
    "clfC = neighbors.KNeighborsClassifier()"
   ]
  },
  {
   "cell_type": "code",
   "execution_count": 61,
   "id": "571fbba3-404a-4343-b4b2-269555f39a77",
   "metadata": {},
   "outputs": [
    {
     "data": {
      "text/plain": [
       "KNeighborsClassifier()"
      ]
     },
     "execution_count": 61,
     "metadata": {},
     "output_type": "execute_result"
    }
   ],
   "source": [
    "clfC.fit(X_trainC,y_trainC)"
   ]
  },
  {
   "cell_type": "code",
   "execution_count": 62,
   "id": "9db27866-5700-48bf-9177-2af1447e416a",
   "metadata": {},
   "outputs": [],
   "source": [
    "y_predC = clfC.predict(X_testC)"
   ]
  },
  {
   "cell_type": "code",
   "execution_count": 63,
   "id": "90e6efb2-8d4f-461d-af15-5e08f26145c2",
   "metadata": {},
   "outputs": [
    {
     "data": {
      "text/plain": [
       "array([[249,   1],\n",
       "       [  8,   0]], dtype=int64)"
      ]
     },
     "execution_count": 63,
     "metadata": {},
     "output_type": "execute_result"
    }
   ],
   "source": [
    "confusion_matrix(y_testC,y_predC)"
   ]
  },
  {
   "cell_type": "code",
   "execution_count": 64,
   "id": "48417370-3dfe-4e96-8370-d384c031adc7",
   "metadata": {},
   "outputs": [
    {
     "name": "stdout",
     "output_type": "stream",
     "text": [
      "              precision    recall  f1-score   support\n",
      "\n",
      "           0       0.97      1.00      0.98       250\n",
      "           1       0.00      0.00      0.00         8\n",
      "\n",
      "    accuracy                           0.97       258\n",
      "   macro avg       0.48      0.50      0.49       258\n",
      "weighted avg       0.94      0.97      0.95       258\n",
      "\n"
     ]
    }
   ],
   "source": [
    "print(classification_report(y_testC,y_predC,zero_division=1))"
   ]
  },
  {
   "cell_type": "markdown",
   "id": "41868362-21dc-490c-af28-0d15bd706a21",
   "metadata": {},
   "source": [
    "## K Nearest Neighbors for classification of Biopsy target variable"
   ]
  },
  {
   "cell_type": "code",
   "execution_count": 65,
   "id": "de5129d2-eeac-4912-947c-e71cf16f2049",
   "metadata": {},
   "outputs": [],
   "source": [
    "clfB = kNN()"
   ]
  },
  {
   "cell_type": "code",
   "execution_count": 66,
   "id": "dbbfcb0b-8bc9-4b55-9060-fa7fa146f300",
   "metadata": {},
   "outputs": [
    {
     "data": {
      "text/plain": [
       "KNeighborsClassifier()"
      ]
     },
     "execution_count": 66,
     "metadata": {},
     "output_type": "execute_result"
    }
   ],
   "source": [
    "clfB.fit(X_trainB,y_trainB)"
   ]
  },
  {
   "cell_type": "code",
   "execution_count": 67,
   "id": "27c7668c-c11d-4d34-9c9f-26b78259b54e",
   "metadata": {},
   "outputs": [],
   "source": [
    "y_predB = clfB.predict(X_testB)"
   ]
  },
  {
   "cell_type": "code",
   "execution_count": 68,
   "id": "07c0ed8a-23bb-470b-af73-3dcfd1787512",
   "metadata": {},
   "outputs": [
    {
     "data": {
      "text/plain": [
       "array([[241,   2],\n",
       "       [ 15,   0]], dtype=int64)"
      ]
     },
     "execution_count": 68,
     "metadata": {},
     "output_type": "execute_result"
    }
   ],
   "source": [
    "confusion_matrix(y_testB,y_predB)"
   ]
  },
  {
   "cell_type": "code",
   "execution_count": 69,
   "id": "53dbecf5-0cde-4c87-830c-9d33f8765d8f",
   "metadata": {},
   "outputs": [
    {
     "name": "stdout",
     "output_type": "stream",
     "text": [
      "              precision    recall  f1-score   support\n",
      "\n",
      "           0       0.94      0.99      0.97       243\n",
      "           1       0.00      0.00      0.00        15\n",
      "\n",
      "    accuracy                           0.93       258\n",
      "   macro avg       0.47      0.50      0.48       258\n",
      "weighted avg       0.89      0.93      0.91       258\n",
      "\n"
     ]
    }
   ],
   "source": [
    "print(classification_report(y_testB,y_predB,zero_division=1))"
   ]
  },
  {
   "cell_type": "markdown",
   "id": "f880de06-1958-4da1-b944-f15af67cac3b",
   "metadata": {},
   "source": [
    "<h1 style=\"color:green;\">Decision Tree</h1>"
   ]
  },
  {
   "cell_type": "markdown",
   "id": "753f5927-ae38-473f-9a48-b0cd20d0d04d",
   "metadata": {},
   "source": [
    "## Decision Tree for classification of Hinselmann target variable"
   ]
  },
  {
   "cell_type": "code",
   "execution_count": 70,
   "id": "a53a6b64-164a-4e9a-ada7-67b5177d8b4b",
   "metadata": {},
   "outputs": [],
   "source": [
    "dclfH = DecisionTreeClassifier(random_state=0)"
   ]
  },
  {
   "cell_type": "code",
   "execution_count": 71,
   "id": "ee0d842e-0d4b-4180-9a14-9682ff30cd2c",
   "metadata": {},
   "outputs": [
    {
     "data": {
      "text/plain": [
       "DecisionTreeClassifier(random_state=0)"
      ]
     },
     "execution_count": 71,
     "metadata": {},
     "output_type": "execute_result"
    }
   ],
   "source": [
    "dclfH.fit(X_trainH,y_trainH)"
   ]
  },
  {
   "cell_type": "code",
   "execution_count": 72,
   "id": "1e5248bc-a001-49f6-987d-2fa6cc4414d7",
   "metadata": {},
   "outputs": [],
   "source": [
    "y_predH = dclfH.predict(X_testH)"
   ]
  },
  {
   "cell_type": "code",
   "execution_count": 73,
   "id": "283fe3a3-d9f1-4aa8-a59a-720a58e71bad",
   "metadata": {},
   "outputs": [],
   "source": [
    "crt = classification_report(y_testH,y_predH)"
   ]
  },
  {
   "cell_type": "code",
   "execution_count": 74,
   "id": "1d612ed0-ef9e-49b8-b20f-de6ccdd5b88d",
   "metadata": {},
   "outputs": [
    {
     "name": "stdout",
     "output_type": "stream",
     "text": [
      "              precision    recall  f1-score   support\n",
      "\n",
      "           0       0.96      0.96      0.96       248\n",
      "           1       0.10      0.10      0.10        10\n",
      "\n",
      "    accuracy                           0.93       258\n",
      "   macro avg       0.53      0.53      0.53       258\n",
      "weighted avg       0.93      0.93      0.93       258\n",
      "\n"
     ]
    }
   ],
   "source": [
    "print(crt)"
   ]
  },
  {
   "cell_type": "markdown",
   "id": "83ba595e-0b3f-40dd-b9f9-35396faddaad",
   "metadata": {},
   "source": [
    "## Decision Tree for classification of Schiller target variable"
   ]
  },
  {
   "cell_type": "code",
   "execution_count": 75,
   "id": "13de862b-e107-47ab-a091-aa79560ada63",
   "metadata": {},
   "outputs": [],
   "source": [
    "dclfS = DecisionTreeClassifier(random_state=0)"
   ]
  },
  {
   "cell_type": "code",
   "execution_count": 76,
   "id": "80b1237b-fb6a-44b2-bfe0-b920f9a9ff09",
   "metadata": {},
   "outputs": [
    {
     "data": {
      "text/plain": [
       "DecisionTreeClassifier(random_state=0)"
      ]
     },
     "execution_count": 76,
     "metadata": {},
     "output_type": "execute_result"
    }
   ],
   "source": [
    "dclfS.fit(X_trainS,y_trainS)"
   ]
  },
  {
   "cell_type": "code",
   "execution_count": 77,
   "id": "e34aceaa-ecfd-4110-994b-fa5748da482b",
   "metadata": {},
   "outputs": [],
   "source": [
    "y_predS = dclfS.predict(X_testS)"
   ]
  },
  {
   "cell_type": "code",
   "execution_count": 78,
   "id": "0035fb6a-7b11-4a95-bfaf-00c10c341054",
   "metadata": {},
   "outputs": [],
   "source": [
    "crt2 = classification_report(y_testS,y_predS)"
   ]
  },
  {
   "cell_type": "code",
   "execution_count": 79,
   "id": "a0dc4db3-ddc8-4d46-a109-671bc488aa3b",
   "metadata": {},
   "outputs": [
    {
     "name": "stdout",
     "output_type": "stream",
     "text": [
      "              precision    recall  f1-score   support\n",
      "\n",
      "           0       0.93      0.92      0.92       237\n",
      "           1       0.17      0.19      0.18        21\n",
      "\n",
      "    accuracy                           0.86       258\n",
      "   macro avg       0.55      0.55      0.55       258\n",
      "weighted avg       0.87      0.86      0.86       258\n",
      "\n"
     ]
    }
   ],
   "source": [
    "print(crt2)"
   ]
  },
  {
   "cell_type": "code",
   "execution_count": 80,
   "id": "df51667c-dc18-470b-beba-c5996c39c6fb",
   "metadata": {},
   "outputs": [],
   "source": [
    "cmS = confusion_matrix(y_testS,y_predS)"
   ]
  },
  {
   "cell_type": "code",
   "execution_count": 81,
   "id": "68313497-9787-42fd-bb37-0503c43f0335",
   "metadata": {},
   "outputs": [],
   "source": [
    "cmdS = ConfusionMatrixDisplay(confusion_matrix = cmS,display_labels=[0,1])"
   ]
  },
  {
   "cell_type": "code",
   "execution_count": 82,
   "id": "1a99a006-3e2d-4841-927a-c7d69c8125b6",
   "metadata": {},
   "outputs": [
    {
     "data": {
      "text/plain": [
       "<sklearn.metrics._plot.confusion_matrix.ConfusionMatrixDisplay at 0x2f87e01f9a0>"
      ]
     },
     "execution_count": 82,
     "metadata": {},
     "output_type": "execute_result"
    },
    {
     "data": {
      "image/png": "[encoded data removed]",
      "text/plain": [
       "<Figure size 432x288 with 2 Axes>"
      ]
     },
     "metadata": {
      "needs_background": "light"
     },
     "output_type": "display_data"
    }
   ],
   "source": [
    "cmdS.plot()"
   ]
  },
  {
   "cell_type": "markdown",
   "id": "6dcae04f-f095-4fe9-99cf-aaf51239a5f7",
   "metadata": {},
   "source": [
    "## Decision Tree for classification of Citology target variable"
   ]
  },
  {
   "cell_type": "code",
   "execution_count": 83,
   "id": "5b5e3f97-33cf-4642-8908-3dc554bdcde4",
   "metadata": {},
   "outputs": [],
   "source": [
    "dclfC = DecisionTreeClassifier(random_state=0)"
   ]
  },
  {
   "cell_type": "code",
   "execution_count": 84,
   "id": "675fc3ad-4eac-42da-8ed3-c1919ebb10a5",
   "metadata": {},
   "outputs": [
    {
     "data": {
      "text/plain": [
       "DecisionTreeClassifier(random_state=0)"
      ]
     },
     "execution_count": 84,
     "metadata": {},
     "output_type": "execute_result"
    }
   ],
   "source": [
    "dclfC.fit(X_trainC,y_trainC)"
   ]
  },
  {
   "cell_type": "code",
   "execution_count": 85,
   "id": "223edf3d-131b-4acb-9d3f-c85c30768453",
   "metadata": {},
   "outputs": [],
   "source": [
    "y_predC = dclfC.predict(X_testC)"
   ]
  },
  {
   "cell_type": "code",
   "execution_count": 86,
   "id": "72421ebe-88e8-4de5-9daf-dea2a5271c69",
   "metadata": {},
   "outputs": [
    {
     "name": "stdout",
     "output_type": "stream",
     "text": [
      "              precision    recall  f1-score   support\n",
      "\n",
      "           0       0.97      0.92      0.95       250\n",
      "           1       0.09      0.25      0.13         8\n",
      "\n",
      "    accuracy                           0.90       258\n",
      "   macro avg       0.53      0.58      0.54       258\n",
      "weighted avg       0.95      0.90      0.92       258\n",
      "\n"
     ]
    }
   ],
   "source": [
    "clrC = classification_report(y_testC,y_predC)\n",
    "print(clrC)"
   ]
  },
  {
   "cell_type": "code",
   "execution_count": 87,
   "id": "34310de3-3049-43ef-8f46-14122cf6af2a",
   "metadata": {},
   "outputs": [
    {
     "name": "stdout",
     "output_type": "stream",
     "text": [
      "[[230  20]\n",
      " [  6   2]]\n"
     ]
    }
   ],
   "source": [
    "cmC = confusion_matrix(y_testC,y_predC)\n",
    "print(cmC)"
   ]
  },
  {
   "cell_type": "code",
   "execution_count": 88,
   "id": "db828aae-0f21-430c-92e6-1d3557af9489",
   "metadata": {},
   "outputs": [
    {
     "data": {
      "text/plain": [
       "<sklearn.metrics._plot.confusion_matrix.ConfusionMatrixDisplay at 0x2f800006700>"
      ]
     },
     "execution_count": 88,
     "metadata": {},
     "output_type": "execute_result"
    },
    {
     "data": {
      "image/png": "[encoded data removed]",
      "text/plain": [
       "<Figure size 432x288 with 2 Axes>"
      ]
     },
     "metadata": {
      "needs_background": "light"
     },
     "output_type": "display_data"
    }
   ],
   "source": [
    "cmdC = ConfusionMatrixDisplay(confusion_matrix=cmC,display_labels=[0,1])\n",
    "cmdC.plot()"
   ]
  },
  {
   "cell_type": "markdown",
   "id": "3f1d8757-2b15-4235-8801-24dd1df8abf1",
   "metadata": {},
   "source": [
    "## Decision Tree for classification of Biopsy target variable"
   ]
  },
  {
   "cell_type": "code",
   "execution_count": 89,
   "id": "d07a8d2c-438e-4d97-9fba-6d41cec3f622",
   "metadata": {},
   "outputs": [],
   "source": [
    "dclfB = DecisionTreeClassifier(random_state=0)"
   ]
  },
  {
   "cell_type": "code",
   "execution_count": 90,
   "id": "9f9be76c-2360-4cb0-806a-4b50ee654cec",
   "metadata": {},
   "outputs": [
    {
     "data": {
      "text/plain": [
       "DecisionTreeClassifier(random_state=0)"
      ]
     },
     "execution_count": 90,
     "metadata": {},
     "output_type": "execute_result"
    }
   ],
   "source": [
    "dclfB.fit(X_trainB,y_trainB)"
   ]
  },
  {
   "cell_type": "code",
   "execution_count": 91,
   "id": "5ec16a20-8ac5-4817-a4f9-91538c7596fe",
   "metadata": {},
   "outputs": [],
   "source": [
    "y_predB = dclfB.predict(X_testB)"
   ]
  },
  {
   "cell_type": "code",
   "execution_count": 92,
   "id": "866065d4-ef5b-472b-8999-781246abe499",
   "metadata": {},
   "outputs": [],
   "source": [
    "cmB = confusion_matrix(y_testB,y_predB)"
   ]
  },
  {
   "cell_type": "code",
   "execution_count": 93,
   "id": "ad72f668-e860-474f-9236-af25d31851bb",
   "metadata": {},
   "outputs": [
    {
     "name": "stdout",
     "output_type": "stream",
     "text": [
      "              precision    recall  f1-score   support\n",
      "\n",
      "           0       0.95      0.95      0.95       243\n",
      "           1       0.24      0.27      0.25        15\n",
      "\n",
      "    accuracy                           0.91       258\n",
      "   macro avg       0.59      0.61      0.60       258\n",
      "weighted avg       0.91      0.91      0.91       258\n",
      "\n"
     ]
    }
   ],
   "source": [
    "clrB = classification_report(y_testB,y_predB)\n",
    "print(clrB)"
   ]
  },
  {
   "cell_type": "code",
   "execution_count": 94,
   "id": "3125a913-c174-41b0-931b-1cebd0f994f0",
   "metadata": {},
   "outputs": [
    {
     "data": {
      "text/plain": [
       "<sklearn.metrics._plot.confusion_matrix.ConfusionMatrixDisplay at 0x2f8000f6f70>"
      ]
     },
     "execution_count": 94,
     "metadata": {},
     "output_type": "execute_result"
    },
    {
     "data": {
      "image/png": "[encoded data removed]",
      "text/plain": [
       "<Figure size 432x288 with 2 Axes>"
      ]
     },
     "metadata": {
      "needs_background": "light"
     },
     "output_type": "display_data"
    }
   ],
   "source": [
    "cmdB = ConfusionMatrixDisplay(confusion_matrix=cmB,display_labels=[0,1])\n",
    "cmdB.plot()"
   ]
  },
  {
   "cell_type": "markdown",
   "id": "e70ede18-078f-42b5-9424-ccb09546810e",
   "metadata": {},
   "source": [
    "<h1 style=\"color:green\">Random Forest</h1>"
   ]
  },
  {
   "cell_type": "markdown",
   "id": "49eaa947-38cb-48f8-b69b-eaa4747fd0e9",
   "metadata": {},
   "source": [
    "## Random Forest for classification of Hinselmann target variable"
   ]
  },
  {
   "cell_type": "code",
   "execution_count": 95,
   "id": "05ac8e52-5904-4855-aa2f-73698555fb3f",
   "metadata": {},
   "outputs": [],
   "source": [
    "rfcH = RandomForestClassifier(random_state=0)"
   ]
  },
  {
   "cell_type": "code",
   "execution_count": 96,
   "id": "181bc224-77de-477b-953d-6c2317f06a8d",
   "metadata": {},
   "outputs": [
    {
     "data": {
      "text/plain": [
       "RandomForestClassifier(random_state=0)"
      ]
     },
     "execution_count": 96,
     "metadata": {},
     "output_type": "execute_result"
    }
   ],
   "source": [
    "rfcH.fit(X_trainH,y_trainH)"
   ]
  },
  {
   "cell_type": "code",
   "execution_count": 97,
   "id": "7f7ebcbf-1ad8-44a7-9945-f38a4181e067",
   "metadata": {},
   "outputs": [],
   "source": [
    "y_predH = rfcH.predict(X_testH)"
   ]
  },
  {
   "cell_type": "code",
   "execution_count": 98,
   "id": "82c08be2-ff1f-4d42-b72a-fa6fba1066ee",
   "metadata": {},
   "outputs": [
    {
     "name": "stdout",
     "output_type": "stream",
     "text": [
      "[[248   0]\n",
      " [ 10   0]]\n"
     ]
    }
   ],
   "source": [
    "cmH = confusion_matrix(y_testH,y_predH)\n",
    "print(cmH)"
   ]
  },
  {
   "cell_type": "code",
   "execution_count": 99,
   "id": "ac9a9da2-690b-41f1-bf48-ead0dbebe2ad",
   "metadata": {},
   "outputs": [],
   "source": [
    "clrH = classification_report(y_testH,y_predH,zero_division=1)"
   ]
  },
  {
   "cell_type": "code",
   "execution_count": 100,
   "id": "f4e7684c-b6dd-46d6-ab85-b3a2ab04d63d",
   "metadata": {},
   "outputs": [
    {
     "name": "stdout",
     "output_type": "stream",
     "text": [
      "              precision    recall  f1-score   support\n",
      "\n",
      "           0       0.96      1.00      0.98       248\n",
      "           1       1.00      0.00      0.00        10\n",
      "\n",
      "    accuracy                           0.96       258\n",
      "   macro avg       0.98      0.50      0.49       258\n",
      "weighted avg       0.96      0.96      0.94       258\n",
      "\n"
     ]
    }
   ],
   "source": [
    "print(clrH)"
   ]
  },
  {
   "cell_type": "code",
   "execution_count": 101,
   "id": "87f653be-0b3a-4777-86ae-f54464bb90e7",
   "metadata": {},
   "outputs": [
    {
     "data": {
      "text/plain": [
       "<sklearn.metrics._plot.confusion_matrix.ConfusionMatrixDisplay at 0x2f8001f4310>"
      ]
     },
     "execution_count": 101,
     "metadata": {},
     "output_type": "execute_result"
    },
    {
     "data": {
      "image/png": "[encoded data removed]",
      "text/plain": [
       "<Figure size 432x288 with 2 Axes>"
      ]
     },
     "metadata": {
      "needs_background": "light"
     },
     "output_type": "display_data"
    }
   ],
   "source": [
    "cmdH = ConfusionMatrixDisplay(confusion_matrix=cmH,display_labels=[0,1])\n",
    "cmdH.plot()"
   ]
  },
  {
   "cell_type": "markdown",
   "id": "06720af0-29fe-4118-b181-994e9d314845",
   "metadata": {},
   "source": [
    "## Random Forest for classification of Schiller target variable"
   ]
  },
  {
   "cell_type": "code",
   "execution_count": 102,
   "id": "1386ae18-4179-4a94-91d6-6f53a36af6cb",
   "metadata": {},
   "outputs": [],
   "source": [
    "rfcS = RandomForestClassifier(random_state=0)"
   ]
  },
  {
   "cell_type": "code",
   "execution_count": 103,
   "id": "802ec52f-1f35-4c76-b3f2-6d0335f5a86e",
   "metadata": {},
   "outputs": [
    {
     "data": {
      "text/plain": [
       "RandomForestClassifier(random_state=0)"
      ]
     },
     "execution_count": 103,
     "metadata": {},
     "output_type": "execute_result"
    }
   ],
   "source": [
    "rfcS.fit(X_trainS,y_trainS)"
   ]
  },
  {
   "cell_type": "code",
   "execution_count": 104,
   "id": "8efc10d7-a766-4eef-a0b9-a5f0be9d2fe3",
   "metadata": {},
   "outputs": [],
   "source": [
    "y_predS = rfcS.predict(X_testS)"
   ]
  },
  {
   "cell_type": "code",
   "execution_count": 105,
   "id": "0dd9c8b0-a1fe-496e-a2b3-11a56874153a",
   "metadata": {},
   "outputs": [],
   "source": [
    "cmS = confusion_matrix(y_testS,y_predS)"
   ]
  },
  {
   "cell_type": "code",
   "execution_count": 106,
   "id": "a3144e39-7255-4b41-bce2-db0b48e8ce6e",
   "metadata": {},
   "outputs": [
    {
     "name": "stdout",
     "output_type": "stream",
     "text": [
      "              precision    recall  f1-score   support\n",
      "\n",
      "           0       0.93      1.00      0.96       237\n",
      "           1       0.67      0.10      0.17        21\n",
      "\n",
      "    accuracy                           0.92       258\n",
      "   macro avg       0.80      0.55      0.56       258\n",
      "weighted avg       0.90      0.92      0.89       258\n",
      "\n"
     ]
    }
   ],
   "source": [
    "clrS = classification_report(y_testS,y_predS)\n",
    "print(clrS)"
   ]
  },
  {
   "cell_type": "code",
   "execution_count": 107,
   "id": "de15d722-cc33-444c-b1db-f64b683539c9",
   "metadata": {},
   "outputs": [
    {
     "data": {
      "text/plain": [
       "<sklearn.metrics._plot.confusion_matrix.ConfusionMatrixDisplay at 0x2f800296760>"
      ]
     },
     "execution_count": 107,
     "metadata": {},
     "output_type": "execute_result"
    },
    {
     "data": {
      "image/png": "[encoded data removed]",
      "text/plain": [
       "<Figure size 432x288 with 2 Axes>"
      ]
     },
     "metadata": {
      "needs_background": "light"
     },
     "output_type": "display_data"
    }
   ],
   "source": [
    "cmdS = ConfusionMatrixDisplay(confusion_matrix=cmS,display_labels=[0,1])\n",
    "cmdS.plot()"
   ]
  },
  {
   "cell_type": "markdown",
   "id": "a7314b1c-679f-434f-bbf8-e2db9b2df8a2",
   "metadata": {},
   "source": [
    "## Random Forest for classification of Citology target variable"
   ]
  },
  {
   "cell_type": "code",
   "execution_count": 108,
   "id": "b24dc539-63f6-4e80-9c22-f5bd6f75ee03",
   "metadata": {},
   "outputs": [],
   "source": [
    "rfcC = RandomForestClassifier(random_state=0)"
   ]
  },
  {
   "cell_type": "code",
   "execution_count": 109,
   "id": "83a776ac-ce3a-4ecf-be15-4927d45261f6",
   "metadata": {},
   "outputs": [
    {
     "data": {
      "text/plain": [
       "RandomForestClassifier(random_state=0)"
      ]
     },
     "execution_count": 109,
     "metadata": {},
     "output_type": "execute_result"
    }
   ],
   "source": [
    "rfcC.fit(X_trainC,y_trainC)"
   ]
  },
  {
   "cell_type": "code",
   "execution_count": 110,
   "id": "e19a8536-8f97-49ec-98ca-933a54e28de8",
   "metadata": {},
   "outputs": [],
   "source": [
    "y_predC = rfcC.predict(X_testC)"
   ]
  },
  {
   "cell_type": "code",
   "execution_count": 111,
   "id": "2cc605f1-eede-48f4-8252-e29d1dec65f2",
   "metadata": {},
   "outputs": [],
   "source": [
    "cmC = confusion_matrix(y_testC,y_predC)"
   ]
  },
  {
   "cell_type": "code",
   "execution_count": 112,
   "id": "6898ddd7-4188-4b38-8354-1ef1bc51d3c8",
   "metadata": {},
   "outputs": [
    {
     "name": "stdout",
     "output_type": "stream",
     "text": [
      "              precision    recall  f1-score   support\n",
      "\n",
      "           0       0.97      0.99      0.98       250\n",
      "           1       0.00      0.00      0.00         8\n",
      "\n",
      "    accuracy                           0.96       258\n",
      "   macro avg       0.48      0.50      0.49       258\n",
      "weighted avg       0.94      0.96      0.95       258\n",
      "\n"
     ]
    }
   ],
   "source": [
    "clrC = classification_report(y_testC,y_predC)\n",
    "print(clrC)"
   ]
  },
  {
   "cell_type": "code",
   "execution_count": 113,
   "id": "fbf3f97f-c576-47cb-b42d-478ab51c19be",
   "metadata": {},
   "outputs": [
    {
     "data": {
      "text/plain": [
       "<sklearn.metrics._plot.confusion_matrix.ConfusionMatrixDisplay at 0x2f801307820>"
      ]
     },
     "execution_count": 113,
     "metadata": {},
     "output_type": "execute_result"
    },
    {
     "data": {
      "image/png": "[encoded data removed]",
      "text/plain": [
       "<Figure size 432x288 with 2 Axes>"
      ]
     },
     "metadata": {
      "needs_background": "light"
     },
     "output_type": "display_data"
    }
   ],
   "source": [
    "cmdC = ConfusionMatrixDisplay(confusion_matrix=cmC,display_labels=[0,1])\n",
    "cmdC.plot()"
   ]
  },
  {
   "cell_type": "markdown",
   "id": "38d6e709-19fb-448c-a9dd-fcbd53949bc7",
   "metadata": {},
   "source": [
    "## Random Forest for classification of Biopsy target variable"
   ]
  },
  {
   "cell_type": "code",
   "execution_count": 114,
   "id": "7365ee51-c9ee-4642-ba7d-e39bcd81fd1a",
   "metadata": {},
   "outputs": [],
   "source": [
    "rfcB = RandomForestClassifier(random_state=0)"
   ]
  },
  {
   "cell_type": "code",
   "execution_count": 115,
   "id": "0da8f63e-2bf4-48a0-9b68-cd7ead4ad2ec",
   "metadata": {},
   "outputs": [
    {
     "data": {
      "text/plain": [
       "RandomForestClassifier(random_state=0)"
      ]
     },
     "execution_count": 115,
     "metadata": {},
     "output_type": "execute_result"
    }
   ],
   "source": [
    "rfcB.fit(X_trainB,y_trainB)"
   ]
  },
  {
   "cell_type": "code",
   "execution_count": 116,
   "id": "175171dd-e5f5-4d54-91ca-649a375b89bc",
   "metadata": {},
   "outputs": [],
   "source": [
    "y_predB = rfcB.predict(X_testB)"
   ]
  },
  {
   "cell_type": "code",
   "execution_count": 117,
   "id": "5a54a918-8e21-45f2-b568-ab00ffbc4b16",
   "metadata": {},
   "outputs": [],
   "source": [
    "cmB = confusion_matrix(y_testB,y_predB)"
   ]
  },
  {
   "cell_type": "code",
   "execution_count": 118,
   "id": "60f2a866-f865-4006-84b7-c10db0485704",
   "metadata": {},
   "outputs": [
    {
     "name": "stdout",
     "output_type": "stream",
     "text": [
      "[[242   1]\n",
      " [ 14   1]]\n"
     ]
    }
   ],
   "source": [
    "print(cmB)"
   ]
  },
  {
   "cell_type": "code",
   "execution_count": 119,
   "id": "7ea76dc3-95dd-445d-a49a-37b5055fc699",
   "metadata": {},
   "outputs": [],
   "source": [
    "clrB = classification_report(y_testB,y_predB)"
   ]
  },
  {
   "cell_type": "code",
   "execution_count": 120,
   "id": "0f560adf-383e-40b3-9a21-5fa3db5517be",
   "metadata": {},
   "outputs": [
    {
     "name": "stdout",
     "output_type": "stream",
     "text": [
      "              precision    recall  f1-score   support\n",
      "\n",
      "           0       0.95      1.00      0.97       243\n",
      "           1       0.50      0.07      0.12        15\n",
      "\n",
      "    accuracy                           0.94       258\n",
      "   macro avg       0.72      0.53      0.54       258\n",
      "weighted avg       0.92      0.94      0.92       258\n",
      "\n"
     ]
    }
   ],
   "source": [
    "print(clrB)"
   ]
  },
  {
   "cell_type": "code",
   "execution_count": 121,
   "id": "f28eab91-0d36-4194-a531-7edc9d4f44d7",
   "metadata": {},
   "outputs": [
    {
     "data": {
      "text/plain": [
       "<sklearn.metrics._plot.confusion_matrix.ConfusionMatrixDisplay at 0x2f8013af5b0>"
      ]
     },
     "execution_count": 121,
     "metadata": {},
     "output_type": "execute_result"
    },
    {
     "data": {
      "image/png": "[encoded data removed]",
      "text/plain": [
       "<Figure size 432x288 with 2 Axes>"
      ]
     },
     "metadata": {
      "needs_background": "light"
     },
     "output_type": "display_data"
    }
   ],
   "source": [
    "cmdB = ConfusionMatrixDisplay(confusion_matrix=cmB,display_labels=[0,1])\n",
    "cmdB.plot()"
   ]
  },
  {
   "cell_type": "markdown",
   "id": "e1501f1c-cff0-447b-951f-190b121878ec",
   "metadata": {},
   "source": [
    "<h1 style=\"color:green\">Support Vector Machines</h1>"
   ]
  },
  {
   "cell_type": "markdown",
   "id": "fd6f3b9e-250a-4b1d-b561-4852ae000365",
   "metadata": {},
   "source": [
    "## Support Vector Machines for classification of Hinselmann target variable"
   ]
  },
  {
   "cell_type": "code",
   "execution_count": 122,
   "id": "1cc1bbb8-be67-4409-82e7-a7b3e3f10dea",
   "metadata": {},
   "outputs": [],
   "source": [
    "svmH = svm.SVC()"
   ]
  },
  {
   "cell_type": "code",
   "execution_count": 123,
   "id": "3c71dc0b-38bd-4c44-9ed3-7eb3251b6d8b",
   "metadata": {},
   "outputs": [
    {
     "data": {
      "text/plain": [
       "SVC()"
      ]
     },
     "execution_count": 123,
     "metadata": {},
     "output_type": "execute_result"
    }
   ],
   "source": [
    "svmH.fit(X_trainH,y_trainH)"
   ]
  },
  {
   "cell_type": "code",
   "execution_count": 124,
   "id": "9dcda698-1833-4665-aa41-01b87bf210b4",
   "metadata": {},
   "outputs": [],
   "source": [
    "y_predH = svmH.predict(X_testH)"
   ]
  },
  {
   "cell_type": "code",
   "execution_count": 125,
   "id": "4bf2995a-71f6-403d-b8ad-76c50b90196d",
   "metadata": {},
   "outputs": [],
   "source": [
    "cmH = confusion_matrix(y_testH,y_predH)"
   ]
  },
  {
   "cell_type": "code",
   "execution_count": 126,
   "id": "d7d5391e-35f9-4504-8574-f4fca973bce3",
   "metadata": {},
   "outputs": [
    {
     "name": "stdout",
     "output_type": "stream",
     "text": [
      "              precision    recall  f1-score   support\n",
      "\n",
      "           0       0.96      1.00      0.98       248\n",
      "           1       1.00      0.00      0.00        10\n",
      "\n",
      "    accuracy                           0.96       258\n",
      "   macro avg       0.98      0.50      0.49       258\n",
      "weighted avg       0.96      0.96      0.94       258\n",
      "\n"
     ]
    }
   ],
   "source": [
    "clrH = classification_report(y_testH,y_predH,zero_division=1)\n",
    "print(clrH)"
   ]
  },
  {
   "cell_type": "code",
   "execution_count": 127,
   "id": "2d43944e-c0ab-4e7a-b061-105c2aa5761c",
   "metadata": {},
   "outputs": [
    {
     "data": {
      "text/plain": [
       "<sklearn.metrics._plot.confusion_matrix.ConfusionMatrixDisplay at 0x2f8014411f0>"
      ]
     },
     "execution_count": 127,
     "metadata": {},
     "output_type": "execute_result"
    },
    {
     "data": {
      "image/png": "[encoded data removed]",
      "text/plain": [
       "<Figure size 432x288 with 2 Axes>"
      ]
     },
     "metadata": {
      "needs_background": "light"
     },
     "output_type": "display_data"
    }
   ],
   "source": [
    "cmdH = ConfusionMatrixDisplay(confusion_matrix=cmH,display_labels=[0,1])\n",
    "cmdH.plot()"
   ]
  },
  {
   "cell_type": "markdown",
   "id": "e927f0d9-a7b8-4502-b02d-aff4424dc0cd",
   "metadata": {},
   "source": [
    "## Support Vector Machines for classification of Schiller target variable"
   ]
  },
  {
   "cell_type": "code",
   "execution_count": 128,
   "id": "10245860-ad0f-417c-a4dc-eb953980a15a",
   "metadata": {},
   "outputs": [],
   "source": [
    "svmS = svm.SVC()"
   ]
  },
  {
   "cell_type": "code",
   "execution_count": 129,
   "id": "fb4b0f27-039e-4dcd-a907-2783f0244e5c",
   "metadata": {},
   "outputs": [
    {
     "data": {
      "text/plain": [
       "SVC()"
      ]
     },
     "execution_count": 129,
     "metadata": {},
     "output_type": "execute_result"
    }
   ],
   "source": [
    "svmS.fit(X_trainS,y_trainS)"
   ]
  },
  {
   "cell_type": "code",
   "execution_count": 130,
   "id": "7464308f-0727-4e5b-8ad3-9a3be2ffc926",
   "metadata": {},
   "outputs": [],
   "source": [
    "y_predS = svmS.predict(X_testS)"
   ]
  },
  {
   "cell_type": "code",
   "execution_count": 131,
   "id": "e48c6f48-2179-41b4-9c3d-86b2e4689f42",
   "metadata": {},
   "outputs": [],
   "source": [
    "cmS = confusion_matrix(y_testS,y_predS)"
   ]
  },
  {
   "cell_type": "code",
   "execution_count": 132,
   "id": "d6f78e5c-0927-41e7-882b-02c813f6db01",
   "metadata": {},
   "outputs": [
    {
     "name": "stdout",
     "output_type": "stream",
     "text": [
      "              precision    recall  f1-score   support\n",
      "\n",
      "           0       0.92      1.00      0.96       237\n",
      "           1       1.00      0.00      0.00        21\n",
      "\n",
      "    accuracy                           0.92       258\n",
      "   macro avg       0.96      0.50      0.48       258\n",
      "weighted avg       0.93      0.92      0.88       258\n",
      "\n"
     ]
    }
   ],
   "source": [
    "clrS = classification_report(y_testS,y_predS,zero_division=1)\n",
    "print(clrS)"
   ]
  },
  {
   "cell_type": "code",
   "execution_count": 133,
   "id": "d98b4b54-914b-44b5-b634-bb5891ecd5d5",
   "metadata": {},
   "outputs": [
    {
     "data": {
      "text/plain": [
       "<sklearn.metrics._plot.confusion_matrix.ConfusionMatrixDisplay at 0x2f8014de640>"
      ]
     },
     "execution_count": 133,
     "metadata": {},
     "output_type": "execute_result"
    },
    {
     "data": {
      "image/png": "[encoded data removed]",
      "text/plain": [
       "<Figure size 432x288 with 2 Axes>"
      ]
     },
     "metadata": {
      "needs_background": "light"
     },
     "output_type": "display_data"
    }
   ],
   "source": [
    "cmdS = ConfusionMatrixDisplay(confusion_matrix=cmS,display_labels=[0,1])\n",
    "cmdS.plot()"
   ]
  },
  {
   "cell_type": "markdown",
   "id": "70d9b594-6b27-4ce1-83bd-73d3de89ec11",
   "metadata": {},
   "source": [
    "## Support Vector Machines for classification of Citology target variable"
   ]
  },
  {
   "cell_type": "code",
   "execution_count": 134,
   "id": "e7913ab7-20cc-4f5c-b1de-81e55930659d",
   "metadata": {},
   "outputs": [],
   "source": [
    "svmC = svm.SVC()"
   ]
  },
  {
   "cell_type": "code",
   "execution_count": 135,
   "id": "cfb37593-bf17-4740-b780-4494e61976c5",
   "metadata": {},
   "outputs": [
    {
     "data": {
      "text/plain": [
       "SVC()"
      ]
     },
     "execution_count": 135,
     "metadata": {},
     "output_type": "execute_result"
    }
   ],
   "source": [
    "svmC.fit(X_trainC,y_trainC)"
   ]
  },
  {
   "cell_type": "code",
   "execution_count": 136,
   "id": "cbbe290b-8e5d-4fbb-a155-f80070be2a64",
   "metadata": {},
   "outputs": [],
   "source": [
    "y_predC = svmC.predict(X_testC)"
   ]
  },
  {
   "cell_type": "code",
   "execution_count": 137,
   "id": "833ea6b6-1d47-42f9-a810-ae032e775021",
   "metadata": {},
   "outputs": [],
   "source": [
    "cmC = confusion_matrix(y_testC,y_predC)"
   ]
  },
  {
   "cell_type": "code",
   "execution_count": 138,
   "id": "15b23756-00fe-43e7-9b3b-3ad44b6e557a",
   "metadata": {},
   "outputs": [
    {
     "name": "stdout",
     "output_type": "stream",
     "text": [
      "              precision    recall  f1-score   support\n",
      "\n",
      "           0       0.97      1.00      0.98       250\n",
      "           1       1.00      0.00      0.00         8\n",
      "\n",
      "    accuracy                           0.97       258\n",
      "   macro avg       0.98      0.50      0.49       258\n",
      "weighted avg       0.97      0.97      0.95       258\n",
      "\n"
     ]
    }
   ],
   "source": [
    "clrC = classification_report(y_testC,y_predC,zero_division=1)\n",
    "print(clrC)"
   ]
  },
  {
   "cell_type": "code",
   "execution_count": 139,
   "id": "07719808-cf4b-4f50-8dc8-639725c970f2",
   "metadata": {},
   "outputs": [
    {
     "data": {
      "text/plain": [
       "<sklearn.metrics._plot.confusion_matrix.ConfusionMatrixDisplay at 0x2f801578a60>"
      ]
     },
     "execution_count": 139,
     "metadata": {},
     "output_type": "execute_result"
    },
    {
     "data": {
      "image/png": "[encoded data removed]",
      "text/plain": [
       "<Figure size 432x288 with 2 Axes>"
      ]
     },
     "metadata": {
      "needs_background": "light"
     },
     "output_type": "display_data"
    }
   ],
   "source": [
    "cmdC = ConfusionMatrixDisplay(confusion_matrix=cmC,display_labels=[0,1])\n",
    "cmdC.plot()"
   ]
  },
  {
   "cell_type": "markdown",
   "id": "45277b93-6b97-4d50-8ad9-b127d2a18923",
   "metadata": {},
   "source": [
    "## Support Vector Machines for classification of __Biopsy__ target variable"
   ]
  },
  {
   "cell_type": "code",
   "execution_count": 140,
   "id": "4cce97bd-1024-4c9c-aaf3-3c49dd8a60e0",
   "metadata": {},
   "outputs": [],
   "source": [
    "svmB = svm.SVC()"
   ]
  },
  {
   "cell_type": "code",
   "execution_count": 141,
   "id": "418bfe0c-fbbc-49b2-9a20-0f0529ed2ba8",
   "metadata": {},
   "outputs": [
    {
     "data": {
      "text/plain": [
       "SVC()"
      ]
     },
     "execution_count": 141,
     "metadata": {},
     "output_type": "execute_result"
    }
   ],
   "source": [
    "svmB.fit(X_trainB,y_trainB)"
   ]
  },
  {
   "cell_type": "code",
   "execution_count": 142,
   "id": "3f1345df-c786-4bdc-a80e-25571ad0509e",
   "metadata": {},
   "outputs": [],
   "source": [
    "y_predB = svmB.predict(X_testB)"
   ]
  },
  {
   "cell_type": "code",
   "execution_count": 143,
   "id": "71c1bddd-8e88-4e17-ad95-48a88946d2b6",
   "metadata": {},
   "outputs": [],
   "source": [
    "cmB = confusion_matrix(y_testB,y_predB)"
   ]
  },
  {
   "cell_type": "code",
   "execution_count": 144,
   "id": "41487790-feac-4884-8f71-6126d1d02e61",
   "metadata": {},
   "outputs": [
    {
     "name": "stdout",
     "output_type": "stream",
     "text": [
      "[[243   0]\n",
      " [ 15   0]]\n"
     ]
    }
   ],
   "source": [
    "print(cmB)"
   ]
  },
  {
   "cell_type": "code",
   "execution_count": 145,
   "id": "61c5164d-a566-4e9a-ab6b-2a0f70478ce1",
   "metadata": {},
   "outputs": [],
   "source": [
    "clrB = classification_report(y_testB,y_predB,zero_division=1)"
   ]
  },
  {
   "cell_type": "code",
   "execution_count": 146,
   "id": "edbbe742-50be-47a4-875c-19f3cd4766e8",
   "metadata": {},
   "outputs": [
    {
     "name": "stdout",
     "output_type": "stream",
     "text": [
      "              precision    recall  f1-score   support\n",
      "\n",
      "           0       0.94      1.00      0.97       243\n",
      "           1       1.00      0.00      0.00        15\n",
      "\n",
      "    accuracy                           0.94       258\n",
      "   macro avg       0.97      0.50      0.49       258\n",
      "weighted avg       0.95      0.94      0.91       258\n",
      "\n"
     ]
    }
   ],
   "source": [
    "print(clrB)"
   ]
  },
  {
   "cell_type": "code",
   "execution_count": 147,
   "id": "a1d114d3-731f-4ed3-b3c3-a01a063b7d18",
   "metadata": {},
   "outputs": [],
   "source": [
    "cmdB = ConfusionMatrixDisplay(confusion_matrix=cmB,display_labels=[0,1])"
   ]
  },
  {
   "cell_type": "code",
   "execution_count": 148,
   "id": "d36ad2be-23de-4184-96c1-73812e8c8dc0",
   "metadata": {},
   "outputs": [
    {
     "data": {
      "text/plain": [
       "<sklearn.metrics._plot.confusion_matrix.ConfusionMatrixDisplay at 0x2f8013a5130>"
      ]
     },
     "execution_count": 148,
     "metadata": {},
     "output_type": "execute_result"
    },
    {
     "data": {
      "image/png": "[encoded data removed]",
      "text/plain": [
       "<Figure size 432x288 with 2 Axes>"
      ]
     },
     "metadata": {
      "needs_background": "light"
     },
     "output_type": "display_data"
    }
   ],
   "source": [
    "cmdB.plot()"
   ]
  },
  {
   "cell_type": "markdown",
   "id": "3cd84c03-cb07-44c2-a746-34ac27a85582",
   "metadata": {},
   "source": [
    "<h1 style=\"color:red\"> Applying SMOTE to the Dataset </h1>"
   ]
  },
  {
   "cell_type": "code",
   "execution_count": 149,
   "id": "9dd57d93-effb-4745-88ba-88d685e5c516",
   "metadata": {},
   "outputs": [],
   "source": [
    "from imblearn.over_sampling import SMOTE\n",
    "from imblearn.pipeline import Pipeline\n",
    "from imblearn.under_sampling import RandomUnderSampler"
   ]
  },
  {
   "cell_type": "code",
   "execution_count": 150,
   "id": "d243baa0-f7ee-4eb6-9c59-3fbb745c0bb8",
   "metadata": {},
   "outputs": [],
   "source": [
    "under = RandomUnderSampler(sampling_strategy=0.5)\n",
    "over = SMOTE(sampling_strategy=0.5)\n",
    "model = ComplementNB()\n",
    "steps = [('over',over),('under',under),('model',model)]\n",
    "pipeline = Pipeline(steps=steps)"
   ]
  },
  {
   "cell_type": "code",
   "execution_count": 151,
   "id": "6eb92c54-7fb2-41cc-a6c9-86792055b5af",
   "metadata": {},
   "outputs": [
    {
     "data": {
      "text/plain": [
       "Pipeline(steps=[('over', SMOTE(sampling_strategy=0.5)),\n",
       "                ('under', RandomUnderSampler(sampling_strategy=0.5)),\n",
       "                ('model', ComplementNB())])"
      ]
     },
     "execution_count": 151,
     "metadata": {},
     "output_type": "execute_result"
    }
   ],
   "source": [
    "pipeline.fit(X_trainH,y_trainH)"
   ]
  },
  {
   "cell_type": "code",
   "execution_count": 152,
   "id": "4169c2b9-6b61-473d-81f3-1a36808479cd",
   "metadata": {},
   "outputs": [],
   "source": [
    "predict = pipeline.predict(X_testH)"
   ]
  },
  {
   "cell_type": "code",
   "execution_count": 153,
   "id": "7a0a56e0-845c-4506-9e03-3aa6281f3007",
   "metadata": {},
   "outputs": [
    {
     "name": "stdout",
     "output_type": "stream",
     "text": [
      "[1 1 1 1 0 1 1 1 1 0 1 1 1 1 0 1 1 1 0 0 1 1 1 1 1 1 0 1 1 0 1 1 0 1 1 1 0\n",
      " 0 0 1 1 0 0 0 1 0 1 0 1 1 1 1 1 1 1 1 1 0 1 0 0 1 0 0 1 0 0 0 1 0 0 0 0 1\n",
      " 0 0 0 1 0 0 1 0 1 0 0 0 0 0 1 0 1 1 0 1 1 1 0 1 1 1 0 1 1 0 1 0 0 1 1 1 1\n",
      " 1 1 0 0 1 1 1 0 1 1 1 0 1 1 1 0 1 0 0 1 0 1 1 1 1 0 1 1 1 1 1 1 1 1 1 0 0\n",
      " 1 1 0 1 0 1 0 0 1 0 0 0 0 1 0 0 1 1 1 0 1 0 1 0 0 1 0 1 0 0 0 1 0 1 1 1 1\n",
      " 1 0 1 0 1 1 0 0 1 0 1 1 1 1 1 1 0 1 1 1 0 0 1 0 1 0 0 1 1 1 1 1 1 1 0 1 1\n",
      " 0 1 1 0 1 0 0 1 0 0 1 0 0 1 0 1 1 1 1 1 0 1 1 1 0 0 0 0 1 1 1 1 1 0 0 1]\n"
     ]
    }
   ],
   "source": [
    "print(predict)"
   ]
  },
  {
   "cell_type": "code",
   "execution_count": 154,
   "id": "7fe5ed81-8342-4209-b637-6277cea09e90",
   "metadata": {},
   "outputs": [],
   "source": [
    "confusion_m = confusion_matrix(y_testH,predict)"
   ]
  },
  {
   "cell_type": "code",
   "execution_count": 155,
   "id": "eff1bcdb-0371-4dbc-b2b1-cae542471d02",
   "metadata": {},
   "outputs": [
    {
     "data": {
      "text/plain": [
       "<sklearn.metrics._plot.confusion_matrix.ConfusionMatrixDisplay at 0x2f80184ffd0>"
      ]
     },
     "execution_count": 155,
     "metadata": {},
     "output_type": "execute_result"
    },
    {
     "data": {
      "image/png": "[encoded data removed]",
      "text/plain": [
       "<Figure size 432x288 with 2 Axes>"
      ]
     },
     "metadata": {
      "needs_background": "light"
     },
     "output_type": "display_data"
    }
   ],
   "source": [
    "ConfusionMatrixDisplay(confusion_matrix=confusion_m,display_labels=[0,1]).plot()"
   ]
  },
  {
   "cell_type": "code",
   "execution_count": 156,
   "id": "7f817fc5-ffef-4d02-b7b9-5bccaf5ce910",
   "metadata": {},
   "outputs": [
    {
     "name": "stdout",
     "output_type": "stream",
     "text": [
      "              precision    recall  f1-score   support\n",
      "\n",
      "           0       0.92      0.39      0.55       248\n",
      "           1       0.01      0.20      0.02        10\n",
      "\n",
      "    accuracy                           0.38       258\n",
      "   macro avg       0.47      0.29      0.28       258\n",
      "weighted avg       0.89      0.38      0.53       258\n",
      "\n"
     ]
    }
   ],
   "source": [
    "print(classification_report(y_testH,predict))"
   ]
  },
  {
   "cell_type": "markdown",
   "id": "d3ee6645-2411-4005-9127-44956f7cf57b",
   "metadata": {},
   "source": [
    "## Naive Bayes after applying SMOTE for classification of Hinselmann target variable"
   ]
  },
  {
   "cell_type": "code",
   "execution_count": 157,
   "id": "7126b629-1a86-41ef-8646-6d03e4c179cb",
   "metadata": {},
   "outputs": [],
   "source": [
    "cnbs = ComplementNB()"
   ]
  },
  {
   "cell_type": "code",
   "execution_count": 158,
   "id": "6bbb7d80-9023-4ec9-84ac-2a8907788979",
   "metadata": {},
   "outputs": [],
   "source": [
    "smote = SMOTE()"
   ]
  },
  {
   "cell_type": "code",
   "execution_count": 159,
   "id": "c6b3bd18-6b43-4b0e-a638-d5f35e878081",
   "metadata": {},
   "outputs": [],
   "source": [
    "X_trainHres,y_trainHres = smote.fit_resample(X_trainH,y_trainH)"
   ]
  },
  {
   "cell_type": "code",
   "execution_count": 160,
   "id": "e991a8aa-f158-423f-aace-72a29dfddaf9",
   "metadata": {},
   "outputs": [
    {
     "data": {
      "text/plain": [
       "ComplementNB()"
      ]
     },
     "execution_count": 160,
     "metadata": {},
     "output_type": "execute_result"
    }
   ],
   "source": [
    "cnbs.fit(X_trainHres,y_trainHres)"
   ]
  },
  {
   "cell_type": "code",
   "execution_count": 161,
   "id": "7690cf28-2dd7-4fcc-ac99-178563c447bc",
   "metadata": {},
   "outputs": [],
   "source": [
    "y_predHres = cnbs.predict(X_testH)"
   ]
  },
  {
   "cell_type": "code",
   "execution_count": 162,
   "id": "30764c4a-a877-44da-8ed8-b75c672815d2",
   "metadata": {},
   "outputs": [],
   "source": [
    "cmHres = confusion_matrix(y_testH,y_predHres)"
   ]
  },
  {
   "cell_type": "code",
   "execution_count": 163,
   "id": "10b751a7-225b-4f46-b301-f6fa92d5cb4a",
   "metadata": {},
   "outputs": [],
   "source": [
    "cmdHres = ConfusionMatrixDisplay(confusion_matrix=cmHres,display_labels=[0,1])"
   ]
  },
  {
   "cell_type": "code",
   "execution_count": 164,
   "id": "34f5a972-c25a-415b-8c72-ce784a72f96f",
   "metadata": {},
   "outputs": [
    {
     "data": {
      "text/plain": [
       "<sklearn.metrics._plot.confusion_matrix.ConfusionMatrixDisplay at 0x2f8018eac10>"
      ]
     },
     "execution_count": 164,
     "metadata": {},
     "output_type": "execute_result"
    },
    {
     "data": {
      "image/png": "[encoded data removed]",
      "text/plain": [
       "<Figure size 432x288 with 2 Axes>"
      ]
     },
     "metadata": {
      "needs_background": "light"
     },
     "output_type": "display_data"
    }
   ],
   "source": [
    "cmdHres.plot()"
   ]
  },
  {
   "cell_type": "code",
   "execution_count": 165,
   "id": "f8118479-c0a5-4d4e-84e8-38ce043913f8",
   "metadata": {},
   "outputs": [],
   "source": [
    "cla_rep = classification_report(y_predHres,y_testH)"
   ]
  },
  {
   "cell_type": "code",
   "execution_count": 166,
   "id": "c54615e0-7785-4042-a64c-5fa0e081bf1c",
   "metadata": {},
   "outputs": [
    {
     "name": "stdout",
     "output_type": "stream",
     "text": [
      "              precision    recall  f1-score   support\n",
      "\n",
      "           0       0.40      0.93      0.56       108\n",
      "           1       0.20      0.01      0.03       150\n",
      "\n",
      "    accuracy                           0.40       258\n",
      "   macro avg       0.30      0.47      0.29       258\n",
      "weighted avg       0.29      0.40      0.25       258\n",
      "\n"
     ]
    }
   ],
   "source": [
    "print(cla_rep)"
   ]
  },
  {
   "cell_type": "markdown",
   "id": "8bf60490-b748-4572-a694-1544ecfff6c1",
   "metadata": {},
   "source": [
    "## Naive Bayes after applying SMOTE for classification of Schiller target variable"
   ]
  },
  {
   "cell_type": "code",
   "execution_count": null,
   "id": "88756cd9-456b-441a-bd83-1e1835e75847",
   "metadata": {},
   "outputs": [],
   "source": []
  },
  {
   "cell_type": "code",
   "execution_count": null,
   "id": "3e091640-6c06-4fea-b671-2fee566bd09e",
   "metadata": {},
   "outputs": [],
   "source": []
  },
  {
   "cell_type": "code",
   "execution_count": null,
   "id": "602b87bd-05f7-413d-8a4c-a0c65358a145",
   "metadata": {},
   "outputs": [],
   "source": []
  },
  {
   "cell_type": "code",
   "execution_count": null,
   "id": "b1f5910d-bc3d-46ae-af06-ac2126c39c8c",
   "metadata": {},
   "outputs": [],
   "source": []
  },
  {
   "cell_type": "code",
   "execution_count": null,
   "id": "3f277edd-f21d-4a1d-ba61-a9b0b2eb1d5a",
   "metadata": {},
   "outputs": [],
   "source": []
  },
  {
   "cell_type": "code",
   "execution_count": null,
   "id": "a337cec0-53e5-44b5-b7ba-43e727ac8b88",
   "metadata": {},
   "outputs": [],
   "source": []
  },
  {
   "cell_type": "code",
   "execution_count": null,
   "id": "c969136e-4949-4692-94ff-0e8ce8b52b3e",
   "metadata": {},
   "outputs": [],
   "source": []
  }
 ],
 "metadata": {
  "kernelspec": {
   "display_name": "Python 3 (ipykernel)",
   "language": "python",
   "name": "python3"
  },
  "language_info": {
   "codemirror_mode": {
    "name": "ipython",
    "version": 3
   },
   "file_extension": ".py",
   "mimetype": "text/x-python",
   "name": "python",
   "nbconvert_exporter": "python",
   "pygments_lexer": "ipython3",
   "version": "3.9.7"
  }
 },
 "nbformat": 4,
 "nbformat_minor": 5
}
